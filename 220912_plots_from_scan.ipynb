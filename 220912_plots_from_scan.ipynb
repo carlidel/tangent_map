{
 "cells": [
  {
   "cell_type": "code",
   "execution_count": 5,
   "metadata": {},
   "outputs": [],
   "source": [
    "import os\n",
    "import h5py\n",
    "import numpy as np\n",
    "import matplotlib.pyplot as plt\n",
    "from tqdm import tqdm"
   ]
  },
  {
   "cell_type": "code",
   "execution_count": 6,
   "metadata": {},
   "outputs": [],
   "source": [
    "# list files in output and filter the ones that starts with \"basic_scan\"\n",
    "files = [f for f in os.listdir(\"output\") if f.startswith(\"basic_scan\")]"
   ]
  },
  {
   "cell_type": "code",
   "execution_count": 8,
   "metadata": {},
   "outputs": [
    {
     "name": "stderr",
     "output_type": "stream",
     "text": [
      "100%|██████████| 114/114 [00:34<00:00,  3.35it/s]\n"
     ]
    }
   ],
   "source": [
    "for name in tqdm(files):\n",
    "    f = h5py.File(os.path.join(\"output\", name), \"r\")\n",
    "    # get the data\n",
    "    data = f[\"stability\"][:]\n",
    "    # get the parameters from the file name\n",
    "    elements = name.split(\"_\")[2:-1]\n",
    "    title = \" \".join(elements)\n",
    "    # plot the data\n",
    "    plt.imshow(np.log10(data.reshape(200, 200)), origin=\"lower\", extent=[0, 0.75, 0, 0.75])\n",
    "    plt.title(title)\n",
    "    plt.xlabel(\"$x_0$\")\n",
    "    plt.ylabel(\"$y_0$\")\n",
    "    plt.colorbar(label=\"$\\\\log_{10}(N)$\")\n",
    "    plt.savefig(os.path.join(\"img/initial_scan/\", f'{title.replace(\" \", \"_\")}.jpg'), dpi=300)\n",
    "    plt.close()\n",
    "\n"
   ]
  },
  {
   "cell_type": "code",
   "execution_count": null,
   "metadata": {},
   "outputs": [],
   "source": []
  }
 ],
 "metadata": {
  "kernelspec": {
   "display_name": "Python 3.9.12 ('base')",
   "language": "python",
   "name": "python3"
  },
  "language_info": {
   "codemirror_mode": {
    "name": "ipython",
    "version": 3
   },
   "file_extension": ".py",
   "mimetype": "text/x-python",
   "name": "python",
   "nbconvert_exporter": "python",
   "pygments_lexer": "ipython3",
   "version": "3.9.12"
  },
  "orig_nbformat": 4,
  "vscode": {
   "interpreter": {
    "hash": "f3023bf899be63b57b0092dfcb418df687710750732f0ded6fe0bfa97468ce8c"
   }
  }
 },
 "nbformat": 4,
 "nbformat_minor": 2
}
