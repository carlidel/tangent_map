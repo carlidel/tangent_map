{
 "cells": [
  {
   "cell_type": "code",
   "execution_count": 1,
   "metadata": {},
   "outputs": [],
   "source": [
    "from sympy import *"
   ]
  },
  {
   "cell_type": "code",
   "execution_count": 22,
   "metadata": {},
   "outputs": [],
   "source": [
    "# 初始化\n",
    "# create initial symbols\n",
    "x, px, y, py = symbols('x p_x y p_y')\n",
    "tune_x = symbols('omega_x')\n",
    "tune_y = symbols('omega_y')\n",
    "cx, cy = symbols('c_x^{{(n)}} c_y^{{(n)}}')\n",
    "sx, sy = symbols('s_x^{{(n)}} s_y^{{(n)}}')\n",
    "# cx = cos(tune_x)\n",
    "# cy = cos(tune_y)\n",
    "# sx = sin(tune_x)\n",
    "# sy = sin(tune_y)\n",
    "\n",
    "mu = symbols('mu')\n"
   ]
  },
  {
   "cell_type": "code",
   "execution_count": 3,
   "metadata": {},
   "outputs": [
    {
     "data": {
      "text/latex": [
       "$\\displaystyle \\left[\\begin{matrix}cx + sx \\left(3 \\mu x^{2} - 3 \\mu y^{2} + 2 x\\right) & sx & sx \\left(- 6 \\mu x y - 2 y\\right) & 0\\\\cx \\left(3 \\mu x^{2} - 3 \\mu y^{2} + 2 x\\right) - sx & cx & cx \\left(- 6 \\mu x y - 2 y\\right) & 0\\\\sy \\left(- 6 \\mu x y - 2 y\\right) & 0 & cy + sy \\left(- 3 \\mu x^{2} + 3 \\mu y^{2} - 2 x\\right) & sy\\\\cy \\left(- 6 \\mu x y - 2 y\\right) & 0 & cy \\left(- 3 \\mu x^{2} + 3 \\mu y^{2} - 2 x\\right) - sy & cy\\end{matrix}\\right]$"
      ],
      "text/plain": [
       "Matrix([\n",
       "[cx + sx*(3*mu*x**2 - 3*mu*y**2 + 2*x), sx,                   sx*(-6*mu*x*y - 2*y),  0],\n",
       "[cx*(3*mu*x**2 - 3*mu*y**2 + 2*x) - sx, cx,                   cx*(-6*mu*x*y - 2*y),  0],\n",
       "[                 sy*(-6*mu*x*y - 2*y),  0, cy + sy*(-3*mu*x**2 + 3*mu*y**2 - 2*x), sy],\n",
       "[                 cy*(-6*mu*x*y - 2*y),  0, cy*(-3*mu*x**2 + 3*mu*y**2 - 2*x) - sy, cy]])"
      ]
     },
     "execution_count": 3,
     "metadata": {},
     "output_type": "execute_result"
    }
   ],
   "source": [
    "matrix = Matrix([\n",
    "[cx + sx * (2 * x + mu * 3 * x * x - mu * 3 * y * y),\n",
    "sx,\n",
    "sx * (-2 * y - mu * 6 * x * y),\n",
    "0.0],\n",
    "\n",
    "[-sx + cx * (2 * x + mu * 3 * x * x - mu * 3 * y * y),\n",
    "cx,\n",
    "cx * (-2 * y - mu * 6 * x * y),\n",
    "0.0],\n",
    "\n",
    "[sy * (-2 * y - mu * 6 * x * y),\n",
    "0.0,\n",
    "cy + sy * (-2 * x - mu * 3 * x * x + mu * 3 * y * y),\n",
    "sy],\n",
    "\n",
    "[cy * (-2 * y - mu * 6 * x * y),\n",
    "0.0,\n",
    "-sy + cy * (-2 * x - mu * 3 * x * x + mu * 3 * y * y),\n",
    "cy],\n",
    "])\n",
    "matrix"
   ]
  },
  {
   "cell_type": "code",
   "execution_count": 9,
   "metadata": {},
   "outputs": [
    {
     "ename": "KeyboardInterrupt",
     "evalue": "",
     "output_type": "error",
     "traceback": [
      "\u001b[0;31m---------------------------------------------------------------------------\u001b[0m",
      "\u001b[0;31mKeyboardInterrupt\u001b[0m                         Traceback (most recent call last)",
      "\u001b[1;32m/home/HPC/camontan/turchetti_paper/sympy_test.ipynb Cell 4\u001b[0m in \u001b[0;36m<cell line: 1>\u001b[0;34m()\u001b[0m\n\u001b[0;32m----> <a href='vscode-notebook-cell://ssh-remote%2Babp/home/HPC/camontan/turchetti_paper/sympy_test.ipynb#ch0000003vscode-remote?line=0'>1</a>\u001b[0m inv_matrix \u001b[39m=\u001b[39m matrix\u001b[39m.\u001b[39;49minv()\n\u001b[1;32m      <a href='vscode-notebook-cell://ssh-remote%2Babp/home/HPC/camontan/turchetti_paper/sympy_test.ipynb#ch0000003vscode-remote?line=1'>2</a>\u001b[0m inv_matrix\n",
      "File \u001b[0;32m~/anaconda3/lib/python3.9/site-packages/sympy/matrices/matrices.py:2223\u001b[0m, in \u001b[0;36mMatrixBase.inv\u001b[0;34m(self, method, iszerofunc, try_block_diag)\u001b[0m\n\u001b[1;32m   2222\u001b[0m \u001b[39mdef\u001b[39;00m \u001b[39minv\u001b[39m(\u001b[39mself\u001b[39m, method\u001b[39m=\u001b[39m\u001b[39mNone\u001b[39;00m, iszerofunc\u001b[39m=\u001b[39m_iszero, try_block_diag\u001b[39m=\u001b[39m\u001b[39mFalse\u001b[39;00m):\n\u001b[0;32m-> 2223\u001b[0m     \u001b[39mreturn\u001b[39;00m _inv(\u001b[39mself\u001b[39;49m, method\u001b[39m=\u001b[39;49mmethod, iszerofunc\u001b[39m=\u001b[39;49miszerofunc,\n\u001b[1;32m   2224\u001b[0m             try_block_diag\u001b[39m=\u001b[39;49mtry_block_diag)\n",
      "File \u001b[0;32m~/anaconda3/lib/python3.9/site-packages/sympy/matrices/inverse.py:459\u001b[0m, in \u001b[0;36m_inv\u001b[0;34m(M, method, iszerofunc, try_block_diag)\u001b[0m\n\u001b[1;32m    456\u001b[0m     \u001b[39mreturn\u001b[39;00m diag(\u001b[39m*\u001b[39mr)\n\u001b[1;32m    458\u001b[0m \u001b[39mif\u001b[39;00m method \u001b[39m==\u001b[39m \u001b[39m\"\u001b[39m\u001b[39mGE\u001b[39m\u001b[39m\"\u001b[39m:\n\u001b[0;32m--> 459\u001b[0m     rv \u001b[39m=\u001b[39m M\u001b[39m.\u001b[39;49minverse_GE(iszerofunc\u001b[39m=\u001b[39;49miszerofunc)\n\u001b[1;32m    460\u001b[0m \u001b[39melif\u001b[39;00m method \u001b[39m==\u001b[39m \u001b[39m\"\u001b[39m\u001b[39mLU\u001b[39m\u001b[39m\"\u001b[39m:\n\u001b[1;32m    461\u001b[0m     rv \u001b[39m=\u001b[39m M\u001b[39m.\u001b[39minverse_LU(iszerofunc\u001b[39m=\u001b[39miszerofunc)\n",
      "File \u001b[0;32m~/anaconda3/lib/python3.9/site-packages/sympy/matrices/matrices.py:2208\u001b[0m, in \u001b[0;36mMatrixBase.inverse_GE\u001b[0;34m(self, iszerofunc)\u001b[0m\n\u001b[1;32m   2207\u001b[0m \u001b[39mdef\u001b[39;00m \u001b[39minverse_GE\u001b[39m(\u001b[39mself\u001b[39m, iszerofunc\u001b[39m=\u001b[39m_iszero):\n\u001b[0;32m-> 2208\u001b[0m     \u001b[39mreturn\u001b[39;00m _inv_GE(\u001b[39mself\u001b[39;49m, iszerofunc\u001b[39m=\u001b[39;49miszerofunc)\n",
      "File \u001b[0;32m~/anaconda3/lib/python3.9/site-packages/sympy/matrices/inverse.py:242\u001b[0m, in \u001b[0;36m_inv_GE\u001b[0;34m(M, iszerofunc)\u001b[0m\n\u001b[1;32m    239\u001b[0m     \u001b[39mraise\u001b[39;00m NonSquareMatrixError(\u001b[39m\"\u001b[39m\u001b[39mA Matrix must be square to invert.\u001b[39m\u001b[39m\"\u001b[39m)\n\u001b[1;32m    241\u001b[0m big \u001b[39m=\u001b[39m Matrix\u001b[39m.\u001b[39mhstack(M\u001b[39m.\u001b[39mas_mutable(), Matrix\u001b[39m.\u001b[39meye(M\u001b[39m.\u001b[39mrows))\n\u001b[0;32m--> 242\u001b[0m red \u001b[39m=\u001b[39m big\u001b[39m.\u001b[39;49mrref(iszerofunc\u001b[39m=\u001b[39;49miszerofunc, simplify\u001b[39m=\u001b[39;49m\u001b[39mTrue\u001b[39;49;00m)[\u001b[39m0\u001b[39m]\n\u001b[1;32m    244\u001b[0m \u001b[39mif\u001b[39;00m \u001b[39many\u001b[39m(iszerofunc(red[j, j]) \u001b[39mfor\u001b[39;00m j \u001b[39min\u001b[39;00m \u001b[39mrange\u001b[39m(red\u001b[39m.\u001b[39mrows)):\n\u001b[1;32m    245\u001b[0m     \u001b[39mraise\u001b[39;00m NonInvertibleMatrixError(\u001b[39m\"\u001b[39m\u001b[39mMatrix det == 0; not invertible.\u001b[39m\u001b[39m\"\u001b[39m)\n",
      "File \u001b[0;32m~/anaconda3/lib/python3.9/site-packages/sympy/matrices/matrices.py:175\u001b[0m, in \u001b[0;36mMatrixReductions.rref\u001b[0;34m(self, iszerofunc, simplify, pivots, normalize_last)\u001b[0m\n\u001b[1;32m    173\u001b[0m \u001b[39mdef\u001b[39;00m \u001b[39mrref\u001b[39m(\u001b[39mself\u001b[39m, iszerofunc\u001b[39m=\u001b[39m_iszero, simplify\u001b[39m=\u001b[39m\u001b[39mFalse\u001b[39;00m, pivots\u001b[39m=\u001b[39m\u001b[39mTrue\u001b[39;00m,\n\u001b[1;32m    174\u001b[0m         normalize_last\u001b[39m=\u001b[39m\u001b[39mTrue\u001b[39;00m):\n\u001b[0;32m--> 175\u001b[0m     \u001b[39mreturn\u001b[39;00m _rref(\u001b[39mself\u001b[39;49m, iszerofunc\u001b[39m=\u001b[39;49miszerofunc, simplify\u001b[39m=\u001b[39;49msimplify,\n\u001b[1;32m    176\u001b[0m         pivots\u001b[39m=\u001b[39;49mpivots, normalize_last\u001b[39m=\u001b[39;49mnormalize_last)\n",
      "File \u001b[0;32m~/anaconda3/lib/python3.9/site-packages/sympy/matrices/reductions.py:305\u001b[0m, in \u001b[0;36m_rref\u001b[0;34m(M, iszerofunc, simplify, pivots, normalize_last)\u001b[0m\n\u001b[1;32m    250\u001b[0m \u001b[39m\"\"\"Return reduced row-echelon form of matrix and indices of pivot vars.\u001b[39;00m\n\u001b[1;32m    251\u001b[0m \n\u001b[1;32m    252\u001b[0m \u001b[39mParameters\u001b[39;00m\n\u001b[0;32m   (...)\u001b[0m\n\u001b[1;32m    300\u001b[0m \u001b[39mof the matrix, set ``noramlize_last=False``\u001b[39;00m\n\u001b[1;32m    301\u001b[0m \u001b[39m\"\"\"\u001b[39;00m\n\u001b[1;32m    303\u001b[0m simpfunc \u001b[39m=\u001b[39m simplify \u001b[39mif\u001b[39;00m \u001b[39misinstance\u001b[39m(simplify, FunctionType) \u001b[39melse\u001b[39;00m _simplify\n\u001b[0;32m--> 305\u001b[0m mat, pivot_cols, _ \u001b[39m=\u001b[39m _row_reduce(M, iszerofunc, simpfunc,\n\u001b[1;32m    306\u001b[0m         normalize_last, normalize\u001b[39m=\u001b[39;49m\u001b[39mTrue\u001b[39;49;00m, zero_above\u001b[39m=\u001b[39;49m\u001b[39mTrue\u001b[39;49;00m)\n\u001b[1;32m    308\u001b[0m \u001b[39mif\u001b[39;00m pivots:\n\u001b[1;32m    309\u001b[0m     mat \u001b[39m=\u001b[39m (mat, pivot_cols)\n",
      "File \u001b[0;32m~/anaconda3/lib/python3.9/site-packages/sympy/matrices/reductions.py:127\u001b[0m, in \u001b[0;36m_row_reduce\u001b[0;34m(M, iszerofunc, simpfunc, normalize_last, normalize, zero_above)\u001b[0m\n\u001b[1;32m    124\u001b[0m \u001b[39mdef\u001b[39;00m \u001b[39m_row_reduce\u001b[39m(M, iszerofunc, simpfunc, normalize_last\u001b[39m=\u001b[39m\u001b[39mTrue\u001b[39;00m,\n\u001b[1;32m    125\u001b[0m                 normalize\u001b[39m=\u001b[39m\u001b[39mTrue\u001b[39;00m, zero_above\u001b[39m=\u001b[39m\u001b[39mTrue\u001b[39;00m):\n\u001b[0;32m--> 127\u001b[0m     mat, pivot_cols, swaps \u001b[39m=\u001b[39m _row_reduce_list(\u001b[39mlist\u001b[39;49m(M), M\u001b[39m.\u001b[39;49mrows, M\u001b[39m.\u001b[39;49mcols, M\u001b[39m.\u001b[39;49mone,\n\u001b[1;32m    128\u001b[0m             iszerofunc, simpfunc, normalize_last\u001b[39m=\u001b[39;49mnormalize_last,\n\u001b[1;32m    129\u001b[0m             normalize\u001b[39m=\u001b[39;49mnormalize, zero_above\u001b[39m=\u001b[39;49mzero_above)\n\u001b[1;32m    131\u001b[0m     \u001b[39mreturn\u001b[39;00m M\u001b[39m.\u001b[39m_new(M\u001b[39m.\u001b[39mrows, M\u001b[39m.\u001b[39mcols, mat), pivot_cols, swaps\n",
      "File \u001b[0;32m~/anaconda3/lib/python3.9/site-packages/sympy/matrices/reductions.py:118\u001b[0m, in \u001b[0;36m_row_reduce_list\u001b[0;34m(mat, rows, cols, one, iszerofunc, simpfunc, normalize_last, normalize, zero_above)\u001b[0m\n\u001b[1;32m    116\u001b[0m         mat[piv_i\u001b[39m*\u001b[39mcols \u001b[39m+\u001b[39m piv_j] \u001b[39m=\u001b[39m one\n\u001b[1;32m    117\u001b[0m         \u001b[39mfor\u001b[39;00m p \u001b[39min\u001b[39;00m \u001b[39mrange\u001b[39m(piv_i\u001b[39m*\u001b[39mcols \u001b[39m+\u001b[39m piv_j \u001b[39m+\u001b[39m \u001b[39m1\u001b[39m, (piv_i \u001b[39m+\u001b[39m \u001b[39m1\u001b[39m)\u001b[39m*\u001b[39mcols):\n\u001b[0;32m--> 118\u001b[0m             mat[p] \u001b[39m=\u001b[39m isimp(mat[p] \u001b[39m/\u001b[39;49m pivot_val)\n\u001b[1;32m    120\u001b[0m \u001b[39mreturn\u001b[39;00m mat, \u001b[39mtuple\u001b[39m(pivot_cols), \u001b[39mtuple\u001b[39m(swaps)\n",
      "File \u001b[0;32m~/anaconda3/lib/python3.9/site-packages/sympy/simplify/simplify.py:2099\u001b[0m, in \u001b[0;36mdotprodsimp\u001b[0;34m(expr, withsimp)\u001b[0m\n\u001b[1;32m   2096\u001b[0m simplified \u001b[39m=\u001b[39m \u001b[39mFalse\u001b[39;00m \u001b[39m# doesn't really mean simplified, rather \"can simplify again\"\u001b[39;00m\n\u001b[1;32m   2098\u001b[0m \u001b[39mif\u001b[39;00m \u001b[39misinstance\u001b[39m(expr, Basic) \u001b[39mand\u001b[39;00m (expr\u001b[39m.\u001b[39mis_Add \u001b[39mor\u001b[39;00m expr\u001b[39m.\u001b[39mis_Mul \u001b[39mor\u001b[39;00m expr\u001b[39m.\u001b[39mis_Pow):\n\u001b[0;32m-> 2099\u001b[0m     expr2 \u001b[39m=\u001b[39m expr\u001b[39m.\u001b[39;49mexpand(deep\u001b[39m=\u001b[39;49m\u001b[39mTrue\u001b[39;49;00m, modulus\u001b[39m=\u001b[39;49m\u001b[39mNone\u001b[39;49;00m, power_base\u001b[39m=\u001b[39;49m\u001b[39mFalse\u001b[39;49;00m,\n\u001b[1;32m   2100\u001b[0m         power_exp\u001b[39m=\u001b[39;49m\u001b[39mFalse\u001b[39;49;00m, mul\u001b[39m=\u001b[39;49m\u001b[39mTrue\u001b[39;49;00m, log\u001b[39m=\u001b[39;49m\u001b[39mFalse\u001b[39;49;00m, multinomial\u001b[39m=\u001b[39;49m\u001b[39mTrue\u001b[39;49;00m, basic\u001b[39m=\u001b[39;49m\u001b[39mFalse\u001b[39;49;00m)\n\u001b[1;32m   2102\u001b[0m     \u001b[39mif\u001b[39;00m expr2 \u001b[39m!=\u001b[39m expr:\n\u001b[1;32m   2103\u001b[0m         expr       \u001b[39m=\u001b[39m expr2\n",
      "File \u001b[0;32m~/anaconda3/lib/python3.9/site-packages/sympy/core/cache.py:70\u001b[0m, in \u001b[0;36m__cacheit.<locals>.func_wrapper.<locals>.wrapper\u001b[0;34m(*args, **kwargs)\u001b[0m\n\u001b[1;32m     67\u001b[0m \u001b[39m@wraps\u001b[39m(func)\n\u001b[1;32m     68\u001b[0m \u001b[39mdef\u001b[39;00m \u001b[39mwrapper\u001b[39m(\u001b[39m*\u001b[39margs, \u001b[39m*\u001b[39m\u001b[39m*\u001b[39mkwargs):\n\u001b[1;32m     69\u001b[0m     \u001b[39mtry\u001b[39;00m:\n\u001b[0;32m---> 70\u001b[0m         retval \u001b[39m=\u001b[39m cfunc(\u001b[39m*\u001b[39;49margs, \u001b[39m*\u001b[39;49m\u001b[39m*\u001b[39;49mkwargs)\n\u001b[1;32m     71\u001b[0m     \u001b[39mexcept\u001b[39;00m \u001b[39mTypeError\u001b[39;00m \u001b[39mas\u001b[39;00m e:\n\u001b[1;32m     72\u001b[0m         \u001b[39mif\u001b[39;00m \u001b[39mnot\u001b[39;00m e\u001b[39m.\u001b[39margs \u001b[39mor\u001b[39;00m \u001b[39mnot\u001b[39;00m e\u001b[39m.\u001b[39margs[\u001b[39m0\u001b[39m]\u001b[39m.\u001b[39mstartswith(\u001b[39m'\u001b[39m\u001b[39munhashable type:\u001b[39m\u001b[39m'\u001b[39m):\n",
      "File \u001b[0;32m~/anaconda3/lib/python3.9/site-packages/sympy/core/expr.py:3632\u001b[0m, in \u001b[0;36mExpr.expand\u001b[0;34m(self, deep, modulus, power_base, power_exp, mul, log, multinomial, basic, **hints)\u001b[0m\n\u001b[1;32m   3629\u001b[0m     expr, _ \u001b[39m=\u001b[39m Expr\u001b[39m.\u001b[39m_expand_hint(\n\u001b[1;32m   3630\u001b[0m         expr, \u001b[39m'\u001b[39m\u001b[39m_eval_expand_multinomial\u001b[39m\u001b[39m'\u001b[39m, deep\u001b[39m=\u001b[39mdeep, \u001b[39m*\u001b[39m\u001b[39m*\u001b[39mhints)\n\u001b[1;32m   3631\u001b[0m \u001b[39mif\u001b[39;00m hints\u001b[39m.\u001b[39mget(\u001b[39m'\u001b[39m\u001b[39mmul\u001b[39m\u001b[39m'\u001b[39m, \u001b[39mFalse\u001b[39;00m):\n\u001b[0;32m-> 3632\u001b[0m     expr, _ \u001b[39m=\u001b[39m Expr\u001b[39m.\u001b[39;49m_expand_hint(\n\u001b[1;32m   3633\u001b[0m         expr, \u001b[39m'\u001b[39;49m\u001b[39m_eval_expand_mul\u001b[39;49m\u001b[39m'\u001b[39;49m, deep\u001b[39m=\u001b[39;49mdeep, \u001b[39m*\u001b[39;49m\u001b[39m*\u001b[39;49mhints)\n\u001b[1;32m   3634\u001b[0m \u001b[39mif\u001b[39;00m hints\u001b[39m.\u001b[39mget(\u001b[39m'\u001b[39m\u001b[39mlog\u001b[39m\u001b[39m'\u001b[39m, \u001b[39mFalse\u001b[39;00m):\n\u001b[1;32m   3635\u001b[0m     expr, _ \u001b[39m=\u001b[39m Expr\u001b[39m.\u001b[39m_expand_hint(\n\u001b[1;32m   3636\u001b[0m         expr, \u001b[39m'\u001b[39m\u001b[39m_eval_expand_log\u001b[39m\u001b[39m'\u001b[39m, deep\u001b[39m=\u001b[39mdeep, \u001b[39m*\u001b[39m\u001b[39m*\u001b[39mhints)\n",
      "File \u001b[0;32m~/anaconda3/lib/python3.9/site-packages/sympy/core/expr.py:3557\u001b[0m, in \u001b[0;36mExpr._expand_hint\u001b[0;34m(expr, hint, deep, **hints)\u001b[0m\n\u001b[1;32m   3555\u001b[0m sargs \u001b[39m=\u001b[39m []\n\u001b[1;32m   3556\u001b[0m \u001b[39mfor\u001b[39;00m arg \u001b[39min\u001b[39;00m expr\u001b[39m.\u001b[39margs:\n\u001b[0;32m-> 3557\u001b[0m     arg, arghit \u001b[39m=\u001b[39m Expr\u001b[39m.\u001b[39;49m_expand_hint(arg, hint, \u001b[39m*\u001b[39;49m\u001b[39m*\u001b[39;49mhints)\n\u001b[1;32m   3558\u001b[0m     hit \u001b[39m|\u001b[39m\u001b[39m=\u001b[39m arghit\n\u001b[1;32m   3559\u001b[0m     sargs\u001b[39m.\u001b[39mappend(arg)\n",
      "File \u001b[0;32m~/anaconda3/lib/python3.9/site-packages/sympy/core/expr.py:3557\u001b[0m, in \u001b[0;36mExpr._expand_hint\u001b[0;34m(expr, hint, deep, **hints)\u001b[0m\n\u001b[1;32m   3555\u001b[0m sargs \u001b[39m=\u001b[39m []\n\u001b[1;32m   3556\u001b[0m \u001b[39mfor\u001b[39;00m arg \u001b[39min\u001b[39;00m expr\u001b[39m.\u001b[39margs:\n\u001b[0;32m-> 3557\u001b[0m     arg, arghit \u001b[39m=\u001b[39m Expr\u001b[39m.\u001b[39;49m_expand_hint(arg, hint, \u001b[39m*\u001b[39;49m\u001b[39m*\u001b[39;49mhints)\n\u001b[1;32m   3558\u001b[0m     hit \u001b[39m|\u001b[39m\u001b[39m=\u001b[39m arghit\n\u001b[1;32m   3559\u001b[0m     sargs\u001b[39m.\u001b[39mappend(arg)\n",
      "    \u001b[0;31m[... skipping similar frames: Expr._expand_hint at line 3557 (1 times)]\u001b[0m\n",
      "File \u001b[0;32m~/anaconda3/lib/python3.9/site-packages/sympy/core/expr.py:3557\u001b[0m, in \u001b[0;36mExpr._expand_hint\u001b[0;34m(expr, hint, deep, **hints)\u001b[0m\n\u001b[1;32m   3555\u001b[0m sargs \u001b[39m=\u001b[39m []\n\u001b[1;32m   3556\u001b[0m \u001b[39mfor\u001b[39;00m arg \u001b[39min\u001b[39;00m expr\u001b[39m.\u001b[39margs:\n\u001b[0;32m-> 3557\u001b[0m     arg, arghit \u001b[39m=\u001b[39m Expr\u001b[39m.\u001b[39;49m_expand_hint(arg, hint, \u001b[39m*\u001b[39;49m\u001b[39m*\u001b[39;49mhints)\n\u001b[1;32m   3558\u001b[0m     hit \u001b[39m|\u001b[39m\u001b[39m=\u001b[39m arghit\n\u001b[1;32m   3559\u001b[0m     sargs\u001b[39m.\u001b[39mappend(arg)\n",
      "File \u001b[0;32m~/anaconda3/lib/python3.9/site-packages/sympy/core/expr.py:3565\u001b[0m, in \u001b[0;36mExpr._expand_hint\u001b[0;34m(expr, hint, deep, **hints)\u001b[0m\n\u001b[1;32m   3562\u001b[0m         expr \u001b[39m=\u001b[39m expr\u001b[39m.\u001b[39mfunc(\u001b[39m*\u001b[39msargs)\n\u001b[1;32m   3564\u001b[0m \u001b[39mif\u001b[39;00m \u001b[39mhasattr\u001b[39m(expr, hint):\n\u001b[0;32m-> 3565\u001b[0m     newexpr \u001b[39m=\u001b[39m \u001b[39mgetattr\u001b[39;49m(expr, hint)(\u001b[39m*\u001b[39;49m\u001b[39m*\u001b[39;49mhints)\n\u001b[1;32m   3566\u001b[0m     \u001b[39mif\u001b[39;00m newexpr \u001b[39m!=\u001b[39m expr:\n\u001b[1;32m   3567\u001b[0m         \u001b[39mreturn\u001b[39;00m (newexpr, \u001b[39mTrue\u001b[39;00m)\n",
      "File \u001b[0;32m~/anaconda3/lib/python3.9/site-packages/sympy/core/mul.py:949\u001b[0m, in \u001b[0;36mMul._eval_expand_mul\u001b[0;34m(self, **hints)\u001b[0m\n\u001b[1;32m    946\u001b[0m \u001b[39m# Handle things like 1/(x*(x + 1)), which are automatically converted\u001b[39;00m\n\u001b[1;32m    947\u001b[0m \u001b[39m# to 1/x*1/(x + 1)\u001b[39;00m\n\u001b[1;32m    948\u001b[0m expr \u001b[39m=\u001b[39m \u001b[39mself\u001b[39m\n\u001b[0;32m--> 949\u001b[0m n, d \u001b[39m=\u001b[39m fraction(expr)\n\u001b[1;32m    950\u001b[0m \u001b[39mif\u001b[39;00m d\u001b[39m.\u001b[39mis_Mul:\n\u001b[1;32m    951\u001b[0m     n, d \u001b[39m=\u001b[39m [i\u001b[39m.\u001b[39m_eval_expand_mul(\u001b[39m*\u001b[39m\u001b[39m*\u001b[39mhints) \u001b[39mif\u001b[39;00m i\u001b[39m.\u001b[39mis_Mul \u001b[39melse\u001b[39;00m i\n\u001b[1;32m    952\u001b[0m         \u001b[39mfor\u001b[39;00m i \u001b[39min\u001b[39;00m (n, d)]\n",
      "File \u001b[0;32m~/anaconda3/lib/python3.9/site-packages/sympy/simplify/radsimp.py:1112\u001b[0m, in \u001b[0;36mfraction\u001b[0;34m(expr, exact)\u001b[0m\n\u001b[1;32m   1110\u001b[0m     \u001b[39melse\u001b[39;00m:\n\u001b[1;32m   1111\u001b[0m         numer\u001b[39m.\u001b[39mappend(term)\n\u001b[0;32m-> 1112\u001b[0m \u001b[39mreturn\u001b[39;00m Mul(\u001b[39m*\u001b[39;49mnumer, evaluate\u001b[39m=\u001b[39;49m\u001b[39mnot\u001b[39;49;00m exact), Mul(\u001b[39m*\u001b[39mdenom, evaluate\u001b[39m=\u001b[39m\u001b[39mnot\u001b[39;00m exact)\n",
      "File \u001b[0;32m~/anaconda3/lib/python3.9/site-packages/sympy/core/cache.py:70\u001b[0m, in \u001b[0;36m__cacheit.<locals>.func_wrapper.<locals>.wrapper\u001b[0;34m(*args, **kwargs)\u001b[0m\n\u001b[1;32m     67\u001b[0m \u001b[39m@wraps\u001b[39m(func)\n\u001b[1;32m     68\u001b[0m \u001b[39mdef\u001b[39;00m \u001b[39mwrapper\u001b[39m(\u001b[39m*\u001b[39margs, \u001b[39m*\u001b[39m\u001b[39m*\u001b[39mkwargs):\n\u001b[1;32m     69\u001b[0m     \u001b[39mtry\u001b[39;00m:\n\u001b[0;32m---> 70\u001b[0m         retval \u001b[39m=\u001b[39m cfunc(\u001b[39m*\u001b[39;49margs, \u001b[39m*\u001b[39;49m\u001b[39m*\u001b[39;49mkwargs)\n\u001b[1;32m     71\u001b[0m     \u001b[39mexcept\u001b[39;00m \u001b[39mTypeError\u001b[39;00m \u001b[39mas\u001b[39;00m e:\n\u001b[1;32m     72\u001b[0m         \u001b[39mif\u001b[39;00m \u001b[39mnot\u001b[39;00m e\u001b[39m.\u001b[39margs \u001b[39mor\u001b[39;00m \u001b[39mnot\u001b[39;00m e\u001b[39m.\u001b[39margs[\u001b[39m0\u001b[39m]\u001b[39m.\u001b[39mstartswith(\u001b[39m'\u001b[39m\u001b[39munhashable type:\u001b[39m\u001b[39m'\u001b[39m):\n",
      "File \u001b[0;32m~/anaconda3/lib/python3.9/site-packages/sympy/core/basic.py:148\u001b[0m, in \u001b[0;36mBasic.__hash__\u001b[0;34m(self)\u001b[0m\n\u001b[1;32m    145\u001b[0m         \u001b[39mraise\u001b[39;00m \u001b[39mNotImplementedError\u001b[39;00m(msg)\n\u001b[1;32m    146\u001b[0m     \u001b[39mreturn\u001b[39;00m \u001b[39msuper\u001b[39m()\u001b[39m.\u001b[39m__reduce_ex__(protocol)\n\u001b[0;32m--> 148\u001b[0m \u001b[39mdef\u001b[39;00m \u001b[39m__hash__\u001b[39m(\u001b[39mself\u001b[39m) \u001b[39m-\u001b[39m\u001b[39m>\u001b[39m \u001b[39mint\u001b[39m:\n\u001b[1;32m    149\u001b[0m     \u001b[39m# hash cannot be cached using cache_it because infinite recurrence\u001b[39;00m\n\u001b[1;32m    150\u001b[0m     \u001b[39m# occurs as hash is needed for setting cache dictionary keys\u001b[39;00m\n\u001b[1;32m    151\u001b[0m     h \u001b[39m=\u001b[39m \u001b[39mself\u001b[39m\u001b[39m.\u001b[39m_mhash\n\u001b[1;32m    152\u001b[0m     \u001b[39mif\u001b[39;00m h \u001b[39mis\u001b[39;00m \u001b[39mNone\u001b[39;00m:\n",
      "\u001b[0;31mKeyboardInterrupt\u001b[0m: "
     ]
    }
   ],
   "source": [
    "inv_matrix = matrix.inv()\n",
    "inv_matrix"
   ]
  },
  {
   "cell_type": "code",
   "execution_count": 7,
   "metadata": {},
   "outputs": [],
   "source": [
    "x_prime = x\n",
    "px_prime = px + x ** 2 - y ** 2 + mu * (x ** 3 - 3 * x * y ** 2)\n",
    "y_prime = y\n",
    "py_prime = py - 2 * x * y + mu * (y ** 3 - 3 * x ** 2 * y)\n",
    "\n",
    "x_map = cx * x_prime + sx * px_prime\n",
    "px_map = - sx * x_prime + cx * px_prime\n",
    "y_map = cy * y_prime + sy * py_prime\n",
    "py_map = - sy * y_prime + cy * py_prime"
   ]
  },
  {
   "cell_type": "code",
   "execution_count": 8,
   "metadata": {},
   "outputs": [
    {
     "data": {
      "text/latex": [
       "$\\displaystyle \\left[\\begin{matrix}\\left(3 \\mu \\left(x^{2} - y^{2}\\right) + 2 x\\right) \\sin{\\left(\\omega_{x} \\right)} + \\cos{\\left(\\omega_{x} \\right)} & \\sin{\\left(\\omega_{x} \\right)} & - 2 y \\left(3 \\mu x + 1\\right) \\sin{\\left(\\omega_{x} \\right)} & 0\\\\\\left(3 \\mu \\left(x^{2} - y^{2}\\right) + 2 x\\right) \\cos{\\left(\\omega_{x} \\right)} - \\sin{\\left(\\omega_{x} \\right)} & \\cos{\\left(\\omega_{x} \\right)} & - 2 y \\left(3 \\mu x + 1\\right) \\cos{\\left(\\omega_{x} \\right)} & 0\\\\- 2 y \\left(3 \\mu x + 1\\right) \\sin{\\left(\\omega_{y} \\right)} & 0 & - \\left(3 \\mu \\left(x^{2} - y^{2}\\right) + 2 x\\right) \\sin{\\left(\\omega_{y} \\right)} + \\cos{\\left(\\omega_{y} \\right)} & \\sin{\\left(\\omega_{y} \\right)}\\\\- 2 y \\left(3 \\mu x + 1\\right) \\cos{\\left(\\omega_{y} \\right)} & 0 & - \\left(3 \\mu \\left(x^{2} - y^{2}\\right) + 2 x\\right) \\cos{\\left(\\omega_{y} \\right)} - \\sin{\\left(\\omega_{y} \\right)} & \\cos{\\left(\\omega_{y} \\right)}\\end{matrix}\\right]$"
      ],
      "text/plain": [
       "Matrix([\n",
       "[(3*mu*(x**2 - y**2) + 2*x)*sin(omega_x) + cos(omega_x), sin(omega_x),                          -2*y*(3*mu*x + 1)*sin(omega_x),            0],\n",
       "[(3*mu*(x**2 - y**2) + 2*x)*cos(omega_x) - sin(omega_x), cos(omega_x),                          -2*y*(3*mu*x + 1)*cos(omega_x),            0],\n",
       "[                        -2*y*(3*mu*x + 1)*sin(omega_y),            0, -(3*mu*(x**2 - y**2) + 2*x)*sin(omega_y) + cos(omega_y), sin(omega_y)],\n",
       "[                        -2*y*(3*mu*x + 1)*cos(omega_y),            0, -(3*mu*(x**2 - y**2) + 2*x)*cos(omega_y) - sin(omega_y), cos(omega_y)]])"
      ]
     },
     "execution_count": 8,
     "metadata": {},
     "output_type": "execute_result"
    }
   ],
   "source": [
    "jacobian = Matrix([\n",
    "[diff(x_map, x), diff(x_map, px), diff(x_map, y), diff(x_map, py)],\n",
    "[diff(px_map, x), diff(px_map, px), diff(px_map, y), diff(px_map, py)],\n",
    "[diff(y_map, x), diff(y_map, px), diff(y_map, y), diff(y_map, py)],\n",
    "[diff(py_map, x), diff(py_map, px), diff(py_map, y), diff(py_map, py)]\n",
    "])\n",
    "\n",
    "simplify(jacobian)"
   ]
  },
  {
   "cell_type": "code",
   "execution_count": 9,
   "metadata": {},
   "outputs": [
    {
     "name": "stdout",
     "output_type": "stream",
     "text": [
      "\\left[\\begin{matrix}\\left(3 \\mu \\left(x^{2} - y^{2}\\right) + 2 x\\right) \\sin{\\left(\\omega_{x} \\right)} + \\cos{\\left(\\omega_{x} \\right)} & \\sin{\\left(\\omega_{x} \\right)} & - 2 y \\left(3 \\mu x + 1\\right) \\sin{\\left(\\omega_{x} \\right)} & 0\\\\\\left(3 \\mu \\left(x^{2} - y^{2}\\right) + 2 x\\right) \\cos{\\left(\\omega_{x} \\right)} - \\sin{\\left(\\omega_{x} \\right)} & \\cos{\\left(\\omega_{x} \\right)} & - 2 y \\left(3 \\mu x + 1\\right) \\cos{\\left(\\omega_{x} \\right)} & 0\\\\- 2 y \\left(3 \\mu x + 1\\right) \\sin{\\left(\\omega_{y} \\right)} & 0 & - \\left(3 \\mu \\left(x^{2} - y^{2}\\right) + 2 x\\right) \\sin{\\left(\\omega_{y} \\right)} + \\cos{\\left(\\omega_{y} \\right)} & \\sin{\\left(\\omega_{y} \\right)}\\\\- 2 y \\left(3 \\mu x + 1\\right) \\cos{\\left(\\omega_{y} \\right)} & 0 & - \\left(3 \\mu \\left(x^{2} - y^{2}\\right) + 2 x\\right) \\cos{\\left(\\omega_{y} \\right)} - \\sin{\\left(\\omega_{y} \\right)} & \\cos{\\left(\\omega_{y} \\right)}\\end{matrix}\\right]\n"
     ]
    }
   ],
   "source": [
    "# print jacobian as latex code\n",
    "print(latex(simplify(jacobian)))"
   ]
  },
  {
   "cell_type": "code",
   "execution_count": 70,
   "metadata": {},
   "outputs": [
    {
     "name": "stdout",
     "output_type": "stream",
     "text": [
      "0 0 cx + sx*(3*mu*(x**2 - y**2) + 2*x)\n",
      "0 1 sx\n",
      "0 2 -2*sx*y*(3*mu*x + 1)\n",
      "0 3 0\n",
      "1 0 cx*(3*mu*(x**2 - y**2) + 2*x) - sx\n",
      "1 1 cx\n",
      "1 2 -2*cx*y*(3*mu*x + 1)\n",
      "1 3 0\n",
      "2 0 -2*sy*y*(3*mu*x + 1)\n",
      "2 1 0\n",
      "2 2 cy - sy*(3*mu*(x**2 - y**2) + 2*x)\n",
      "2 3 sy\n",
      "3 0 -2*cy*y*(3*mu*x + 1)\n",
      "3 1 0\n",
      "3 2 -cy*(3*mu*(x**2 - y**2) + 2*x) - sy\n",
      "3 3 cy\n"
     ]
    }
   ],
   "source": [
    "for i in range(4):\n",
    "    for j in range(4):\n",
    "        print(i, j, simplify(jacobian[i, j]))"
   ]
  },
  {
   "cell_type": "code",
   "execution_count": 23,
   "metadata": {},
   "outputs": [],
   "source": [
    "x_second = cx * x - sx * px\n",
    "px_second = sx * x + cx * px\n",
    "\n",
    "y_second = cy * y - sy * py\n",
    "py_second = sy * y + cy * py\n",
    "\n",
    "x_rev = x_second\n",
    "px_rev = px_second - x_second ** 2 + y_second ** 2 - mu * (x_second ** 3 - 3 * y_second ** 2 * x_second)\n",
    "y_rev = y_second\n",
    "py_rev = py_second + 2 * x_second * y_second - mu * (y_second ** 3 - 3 * x_second ** 2 * y_second)"
   ]
  },
  {
   "cell_type": "code",
   "execution_count": 24,
   "metadata": {},
   "outputs": [
    {
     "data": {
      "text/latex": [
       "$\\displaystyle \\left[\\begin{matrix}c_x^{{(n)}} & - s_x^{{(n)}} & 0 & 0\\\\- 3 c_x^{{(n)}} \\mu \\left(\\left(c_x^{{(n)}} x - p_{x} s_x^{{(n)}}\\right)^{2} - \\left(c_y^{{(n)}} y - p_{y} s_y^{{(n)}}\\right)^{2}\\right) - 2 c_x^{{(n)}} \\left(c_x^{{(n)}} x - p_{x} s_x^{{(n)}}\\right) + s_x^{{(n)}} & c_x^{{(n)}} + 3 \\mu s_x^{{(n)}} \\left(\\left(c_x^{{(n)}} x - p_{x} s_x^{{(n)}}\\right)^{2} - \\left(c_y^{{(n)}} y - p_{y} s_y^{{(n)}}\\right)^{2}\\right) + 2 s_x^{{(n)}} \\left(c_x^{{(n)}} x - p_{x} s_x^{{(n)}}\\right) & 2 c_y^{{(n)}} \\left(c_y^{{(n)}} y - p_{y} s_y^{{(n)}}\\right) \\left(3 \\mu \\left(c_x^{{(n)}} x - p_{x} s_x^{{(n)}}\\right) + 1\\right) & 2 s_y^{{(n)}} \\left(c_y^{{(n)}} y - p_{y} s_y^{{(n)}}\\right) \\left(- 3 \\mu \\left(c_x^{{(n)}} x - p_{x} s_x^{{(n)}}\\right) - 1\\right)\\\\0 & 0 & c_y^{{(n)}} & - s_y^{{(n)}}\\\\2 c_x^{{(n)}} \\left(c_y^{{(n)}} y - p_{y} s_y^{{(n)}}\\right) \\left(3 \\mu \\left(c_x^{{(n)}} x - p_{x} s_x^{{(n)}}\\right) + 1\\right) & 2 s_x^{{(n)}} \\left(c_y^{{(n)}} y - p_{y} s_y^{{(n)}}\\right) \\left(- 3 \\mu \\left(c_x^{{(n)}} x - p_{x} s_x^{{(n)}}\\right) - 1\\right) & 3 c_y^{{(n)}} \\mu \\left(\\left(c_x^{{(n)}} x - p_{x} s_x^{{(n)}}\\right)^{2} - \\left(c_y^{{(n)}} y - p_{y} s_y^{{(n)}}\\right)^{2}\\right) + 2 c_y^{{(n)}} \\left(c_x^{{(n)}} x - p_{x} s_x^{{(n)}}\\right) + s_y^{{(n)}} & c_y^{{(n)}} - 3 \\mu s_y^{{(n)}} \\left(\\left(c_x^{{(n)}} x - p_{x} s_x^{{(n)}}\\right)^{2} - \\left(c_y^{{(n)}} y - p_{y} s_y^{{(n)}}\\right)^{2}\\right) - 2 s_y^{{(n)}} \\left(c_x^{{(n)}} x - p_{x} s_x^{{(n)}}\\right)\\end{matrix}\\right]$"
      ],
      "text/plain": [
       "Matrix([\n",
       "[                                                                                                                                                    c_x^{{(n)}},                                                                                                                                                   -s_x^{{(n)}},                                                                                                                                                              0,                                                                                                                                                              0],\n",
       "[-3*c_x^{{(n)}}*mu*((c_x^{{(n)}}*x - p_x*s_x^{{(n)}})**2 - (c_y^{{(n)}}*y - p_y*s_y^{{(n)}})**2) - 2*c_x^{{(n)}}*(c_x^{{(n)}}*x - p_x*s_x^{{(n)}}) + s_x^{{(n)}}, c_x^{{(n)}} + 3*mu*s_x^{{(n)}}*((c_x^{{(n)}}*x - p_x*s_x^{{(n)}})**2 - (c_y^{{(n)}}*y - p_y*s_y^{{(n)}})**2) + 2*s_x^{{(n)}}*(c_x^{{(n)}}*x - p_x*s_x^{{(n)}}),                                                                   2*c_y^{{(n)}}*(c_y^{{(n)}}*y - p_y*s_y^{{(n)}})*(3*mu*(c_x^{{(n)}}*x - p_x*s_x^{{(n)}}) + 1),                                                                  2*s_y^{{(n)}}*(c_y^{{(n)}}*y - p_y*s_y^{{(n)}})*(-3*mu*(c_x^{{(n)}}*x - p_x*s_x^{{(n)}}) - 1)],\n",
       "[                                                                                                                                                              0,                                                                                                                                                              0,                                                                                                                                                    c_y^{{(n)}},                                                                                                                                                   -s_y^{{(n)}}],\n",
       "[                                                                   2*c_x^{{(n)}}*(c_y^{{(n)}}*y - p_y*s_y^{{(n)}})*(3*mu*(c_x^{{(n)}}*x - p_x*s_x^{{(n)}}) + 1),                                                                  2*s_x^{{(n)}}*(c_y^{{(n)}}*y - p_y*s_y^{{(n)}})*(-3*mu*(c_x^{{(n)}}*x - p_x*s_x^{{(n)}}) - 1), 3*c_y^{{(n)}}*mu*((c_x^{{(n)}}*x - p_x*s_x^{{(n)}})**2 - (c_y^{{(n)}}*y - p_y*s_y^{{(n)}})**2) + 2*c_y^{{(n)}}*(c_x^{{(n)}}*x - p_x*s_x^{{(n)}}) + s_y^{{(n)}}, c_y^{{(n)}} - 3*mu*s_y^{{(n)}}*((c_x^{{(n)}}*x - p_x*s_x^{{(n)}})**2 - (c_y^{{(n)}}*y - p_y*s_y^{{(n)}})**2) - 2*s_y^{{(n)}}*(c_x^{{(n)}}*x - p_x*s_x^{{(n)}})]])"
      ]
     },
     "execution_count": 24,
     "metadata": {},
     "output_type": "execute_result"
    }
   ],
   "source": [
    "jacobian_rev = Matrix([\n",
    "[diff(x_rev, x), diff(x_rev, px), diff(x_rev, y), diff(x_rev, py)],\n",
    "[diff(px_rev, x), diff(px_rev, px), diff(px_rev, y), diff(px_rev, py)],\n",
    "[diff(y_rev, x), diff(y_rev, px), diff(y_rev, y), diff(y_rev, py)],\n",
    "[diff(py_rev, x), diff(py_rev, px), diff(py_rev, y), diff(py_rev, py)]\n",
    "])\n",
    "\n",
    "simplify(jacobian_rev)"
   ]
  },
  {
   "cell_type": "code",
   "execution_count": 25,
   "metadata": {},
   "outputs": [
    {
     "name": "stdout",
     "output_type": "stream",
     "text": [
      "\\left[\\begin{matrix}c_x^{{(n)}} & - s_x^{{(n)}} & 0 & 0\\\\- 3 c_x^{{(n)}} \\mu \\left(\\left(c_x^{{(n)}} x - p_{x} s_x^{{(n)}}\\right)^{2} - \\left(c_y^{{(n)}} y - p_{y} s_y^{{(n)}}\\right)^{2}\\right) - 2 c_x^{{(n)}} \\left(c_x^{{(n)}} x - p_{x} s_x^{{(n)}}\\right) + s_x^{{(n)}} & c_x^{{(n)}} + 3 \\mu s_x^{{(n)}} \\left(\\left(c_x^{{(n)}} x - p_{x} s_x^{{(n)}}\\right)^{2} - \\left(c_y^{{(n)}} y - p_{y} s_y^{{(n)}}\\right)^{2}\\right) + 2 s_x^{{(n)}} \\left(c_x^{{(n)}} x - p_{x} s_x^{{(n)}}\\right) & 2 c_y^{{(n)}} \\left(c_y^{{(n)}} y - p_{y} s_y^{{(n)}}\\right) \\left(3 \\mu \\left(c_x^{{(n)}} x - p_{x} s_x^{{(n)}}\\right) + 1\\right) & 2 s_y^{{(n)}} \\left(c_y^{{(n)}} y - p_{y} s_y^{{(n)}}\\right) \\left(- 3 \\mu \\left(c_x^{{(n)}} x - p_{x} s_x^{{(n)}}\\right) - 1\\right)\\\\0 & 0 & c_y^{{(n)}} & - s_y^{{(n)}}\\\\2 c_x^{{(n)}} \\left(c_y^{{(n)}} y - p_{y} s_y^{{(n)}}\\right) \\left(3 \\mu \\left(c_x^{{(n)}} x - p_{x} s_x^{{(n)}}\\right) + 1\\right) & 2 s_x^{{(n)}} \\left(c_y^{{(n)}} y - p_{y} s_y^{{(n)}}\\right) \\left(- 3 \\mu \\left(c_x^{{(n)}} x - p_{x} s_x^{{(n)}}\\right) - 1\\right) & 3 c_y^{{(n)}} \\mu \\left(\\left(c_x^{{(n)}} x - p_{x} s_x^{{(n)}}\\right)^{2} - \\left(c_y^{{(n)}} y - p_{y} s_y^{{(n)}}\\right)^{2}\\right) + 2 c_y^{{(n)}} \\left(c_x^{{(n)}} x - p_{x} s_x^{{(n)}}\\right) + s_y^{{(n)}} & c_y^{{(n)}} - 3 \\mu s_y^{{(n)}} \\left(\\left(c_x^{{(n)}} x - p_{x} s_x^{{(n)}}\\right)^{2} - \\left(c_y^{{(n)}} y - p_{y} s_y^{{(n)}}\\right)^{2}\\right) - 2 s_y^{{(n)}} \\left(c_x^{{(n)}} x - p_{x} s_x^{{(n)}}\\right)\\end{matrix}\\right]\n"
     ]
    }
   ],
   "source": [
    "# print jacobian as latex code\n",
    "print(latex(simplify(jacobian_rev)))"
   ]
  },
  {
   "cell_type": "code",
   "execution_count": 77,
   "metadata": {},
   "outputs": [
    {
     "name": "stdout",
     "output_type": "stream",
     "text": [
      "0 0 cx\n",
      "0 1 -sx\n",
      "0 2 0\n",
      "0 3 0\n",
      "1 0 -3*cx*mu*((cx*x - px*sx)**2 - (cy*y - py*sy)**2) - 2*cx*(cx*x - px*sx) + sx\n",
      "1 1 cx + 3*mu*sx*((cx*x - px*sx)**2 - (cy*y - py*sy)**2) + 2*sx*(cx*x - px*sx)\n",
      "1 2 2*cy*(cy*y - py*sy)*(3*mu*(cx*x - px*sx) + 1)\n",
      "1 3 2*sy*(cy*y - py*sy)*(-3*mu*(cx*x - px*sx) - 1)\n",
      "2 0 0\n",
      "2 1 0\n",
      "2 2 cy\n",
      "2 3 -sy\n",
      "3 0 2*cx*(cy*y - py*sy)*(3*mu*(cx*x - px*sx) + 1)\n",
      "3 1 2*sx*(cy*y - py*sy)*(-3*mu*(cx*x - px*sx) - 1)\n",
      "3 2 3*cy*mu*((cx*x - px*sx)**2 - (cy*y - py*sy)**2) + 2*cy*(cx*x - px*sx) + sy\n",
      "3 3 cy - 3*mu*sy*((cx*x - px*sx)**2 - (cy*y - py*sy)**2) - 2*sy*(cx*x - px*sx)\n"
     ]
    }
   ],
   "source": [
    "for i in range(4):\n",
    "    for j in range(4):\n",
    "        print(i, j, simplify(jacobian_rev[i, j]))"
   ]
  },
  {
   "cell_type": "code",
   "execution_count": 44,
   "metadata": {},
   "outputs": [
    {
     "data": {
      "text/latex": [
       "$\\displaystyle \\left[\\begin{matrix}- 4 y \\left(3 \\mu x + 1\\right) \\left(3 \\mu \\left(p_{x} \\sin{\\left(\\omega_{x} \\right)} - x \\cos{\\left(\\omega_{x} \\right)}\\right) - 1\\right) \\left(p_{y} \\sin{\\left(\\omega_{y} \\right)} - y \\cos{\\left(\\omega_{y} \\right)}\\right) \\cos{\\left(\\omega_{x} \\right)} \\cos{\\left(\\omega_{y} \\right)} + \\left(\\left(3 \\mu \\left(x^{2} - y^{2}\\right) + 2 x\\right) \\sin{\\left(\\omega_{x} \\right)} + \\cos{\\left(\\omega_{x} \\right)}\\right) \\cos{\\left(\\omega_{x} \\right)} + \\left(\\left(3 \\mu \\left(x^{2} - y^{2}\\right) + 2 x\\right) \\cos{\\left(\\omega_{x} \\right)} - \\sin{\\left(\\omega_{x} \\right)}\\right) \\left(- 3 \\mu \\left(\\left(p_{x} \\sin{\\left(\\omega_{x} \\right)} - x \\cos{\\left(\\omega_{x} \\right)}\\right)^{2} - \\left(p_{y} \\sin{\\left(\\omega_{y} \\right)} - y \\cos{\\left(\\omega_{y} \\right)}\\right)^{2}\\right) \\cos{\\left(\\omega_{x} \\right)} + p_{x} \\sin{\\left(2 \\omega_{x} \\right)} - x \\cos{\\left(2 \\omega_{x} \\right)} - x + \\sin{\\left(\\omega_{x} \\right)}\\right) & \\left(- 3 \\mu \\left(\\left(p_{x} \\sin{\\left(\\omega_{x} \\right)} - x \\cos{\\left(\\omega_{x} \\right)}\\right)^{2} - \\left(p_{y} \\sin{\\left(\\omega_{y} \\right)} - y \\cos{\\left(\\omega_{y} \\right)}\\right)^{2}\\right) \\cos{\\left(\\omega_{x} \\right)} + p_{x} \\sin{\\left(2 \\omega_{x} \\right)} - x \\cos{\\left(2 \\omega_{x} \\right)} - x + 2 \\sin{\\left(\\omega_{x} \\right)}\\right) \\cos{\\left(\\omega_{x} \\right)} & 2 \\left(- y \\left(3 \\mu x + 1\\right) \\left(- 3 \\mu \\left(\\left(p_{x} \\sin{\\left(\\omega_{x} \\right)} - x \\cos{\\left(\\omega_{x} \\right)}\\right)^{2} - \\left(p_{y} \\sin{\\left(\\omega_{y} \\right)} - y \\cos{\\left(\\omega_{y} \\right)}\\right)^{2}\\right) \\cos{\\left(\\omega_{x} \\right)} + p_{x} \\sin{\\left(2 \\omega_{x} \\right)} - x \\cos{\\left(2 \\omega_{x} \\right)} - x + \\sin{\\left(\\omega_{x} \\right)}\\right) - y \\left(3 \\mu x + 1\\right) \\sin{\\left(\\omega_{x} \\right)} - \\left(3 \\mu \\left(p_{x} \\sin{\\left(\\omega_{x} \\right)} - x \\cos{\\left(\\omega_{x} \\right)}\\right) - 1\\right) \\left(p_{y} \\sin{\\left(\\omega_{y} \\right)} - y \\cos{\\left(\\omega_{y} \\right)}\\right) \\left(\\left(3 \\mu \\left(x^{2} - y^{2}\\right) + 2 x\\right) \\cos{\\left(\\omega_{y} \\right)} + \\sin{\\left(\\omega_{y} \\right)}\\right)\\right) \\cos{\\left(\\omega_{x} \\right)} & 2 \\cdot \\left(3 \\mu \\left(p_{x} \\sin{\\left(\\omega_{x} \\right)} - x \\cos{\\left(\\omega_{x} \\right)}\\right) - 1\\right) \\left(p_{y} \\sin{\\left(\\omega_{y} \\right)} - y \\cos{\\left(\\omega_{y} \\right)}\\right) \\cos{\\left(\\omega_{x} \\right)} \\cos{\\left(\\omega_{y} \\right)}\\\\4 y \\left(3 \\mu x + 1\\right) \\left(3 \\mu \\left(p_{x} \\sin{\\left(\\omega_{x} \\right)} - x \\cos{\\left(\\omega_{x} \\right)}\\right) - 1\\right) \\left(p_{y} \\sin{\\left(\\omega_{y} \\right)} - y \\cos{\\left(\\omega_{y} \\right)}\\right) \\sin{\\left(\\omega_{x} \\right)} \\cos{\\left(\\omega_{y} \\right)} - \\left(\\left(3 \\mu \\left(x^{2} - y^{2}\\right) + 2 x\\right) \\sin{\\left(\\omega_{x} \\right)} + \\cos{\\left(\\omega_{x} \\right)}\\right) \\sin{\\left(\\omega_{x} \\right)} + \\left(\\left(3 \\mu \\left(x^{2} - y^{2}\\right) + 2 x\\right) \\cos{\\left(\\omega_{x} \\right)} - \\sin{\\left(\\omega_{x} \\right)}\\right) \\left(3 \\mu \\left(\\left(p_{x} \\sin{\\left(\\omega_{x} \\right)} - x \\cos{\\left(\\omega_{x} \\right)}\\right)^{2} - \\left(p_{y} \\sin{\\left(\\omega_{y} \\right)} - y \\cos{\\left(\\omega_{y} \\right)}\\right)^{2}\\right) \\sin{\\left(\\omega_{x} \\right)} + p_{x} \\cos{\\left(2 \\omega_{x} \\right)} - p_{x} + x \\sin{\\left(2 \\omega_{x} \\right)} + \\cos{\\left(\\omega_{x} \\right)}\\right) & \\left(3 \\mu \\left(\\left(p_{x} \\sin{\\left(\\omega_{x} \\right)} - x \\cos{\\left(\\omega_{x} \\right)}\\right)^{2} - \\left(p_{y} \\sin{\\left(\\omega_{y} \\right)} - y \\cos{\\left(\\omega_{y} \\right)}\\right)^{2}\\right) \\sin{\\left(\\omega_{x} \\right)} + p_{x} \\cos{\\left(2 \\omega_{x} \\right)} - p_{x} + x \\sin{\\left(2 \\omega_{x} \\right)} + \\cos{\\left(\\omega_{x} \\right)}\\right) \\cos{\\left(\\omega_{x} \\right)} - \\sin^{2}{\\left(\\omega_{x} \\right)} & - 2 y \\left(3 \\mu x + 1\\right) \\left(3 \\mu \\left(\\left(p_{x} \\sin{\\left(\\omega_{x} \\right)} - x \\cos{\\left(\\omega_{x} \\right)}\\right)^{2} - \\left(p_{y} \\sin{\\left(\\omega_{y} \\right)} - y \\cos{\\left(\\omega_{y} \\right)}\\right)^{2}\\right) \\sin{\\left(\\omega_{x} \\right)} + p_{x} \\cos{\\left(2 \\omega_{x} \\right)} - p_{x} + x \\sin{\\left(2 \\omega_{x} \\right)} + \\cos{\\left(\\omega_{x} \\right)}\\right) \\cos{\\left(\\omega_{x} \\right)} + 2 y \\left(3 \\mu x + 1\\right) \\sin^{2}{\\left(\\omega_{x} \\right)} + 2 \\cdot \\left(3 \\mu \\left(p_{x} \\sin{\\left(\\omega_{x} \\right)} - x \\cos{\\left(\\omega_{x} \\right)}\\right) - 1\\right) \\left(p_{y} \\sin{\\left(\\omega_{y} \\right)} - y \\cos{\\left(\\omega_{y} \\right)}\\right) \\left(\\left(3 \\mu \\left(x^{2} - y^{2}\\right) + 2 x\\right) \\cos{\\left(\\omega_{y} \\right)} + \\sin{\\left(\\omega_{y} \\right)}\\right) \\sin{\\left(\\omega_{x} \\right)} & - 2 \\cdot \\left(3 \\mu \\left(p_{x} \\sin{\\left(\\omega_{x} \\right)} - x \\cos{\\left(\\omega_{x} \\right)}\\right) - 1\\right) \\left(p_{y} \\sin{\\left(\\omega_{y} \\right)} - y \\cos{\\left(\\omega_{y} \\right)}\\right) \\sin{\\left(\\omega_{x} \\right)} \\cos{\\left(\\omega_{y} \\right)}\\\\2 \\left(- y \\left(3 \\mu x + 1\\right) \\left(3 \\mu \\left(\\left(p_{x} \\sin{\\left(\\omega_{x} \\right)} - x \\cos{\\left(\\omega_{x} \\right)}\\right)^{2} - \\left(p_{y} \\sin{\\left(\\omega_{y} \\right)} - y \\cos{\\left(\\omega_{y} \\right)}\\right)^{2}\\right) \\cos{\\left(\\omega_{y} \\right)} - 2 \\left(p_{x} \\sin{\\left(\\omega_{x} \\right)} - x \\cos{\\left(\\omega_{x} \\right)}\\right) \\cos{\\left(\\omega_{y} \\right)} + \\sin{\\left(\\omega_{y} \\right)}\\right) - y \\left(3 \\mu x + 1\\right) \\sin{\\left(\\omega_{y} \\right)} + \\left(3 \\mu \\left(p_{x} \\sin{\\left(\\omega_{x} \\right)} - x \\cos{\\left(\\omega_{x} \\right)}\\right) - 1\\right) \\left(p_{y} \\sin{\\left(\\omega_{y} \\right)} - y \\cos{\\left(\\omega_{y} \\right)}\\right) \\left(\\left(3 \\mu \\left(x^{2} - y^{2}\\right) + 2 x\\right) \\cos{\\left(\\omega_{x} \\right)} - \\sin{\\left(\\omega_{x} \\right)}\\right)\\right) \\cos{\\left(\\omega_{y} \\right)} & 2 \\cdot \\left(3 \\mu \\left(p_{x} \\sin{\\left(\\omega_{x} \\right)} - x \\cos{\\left(\\omega_{x} \\right)}\\right) - 1\\right) \\left(p_{y} \\sin{\\left(\\omega_{y} \\right)} - y \\cos{\\left(\\omega_{y} \\right)}\\right) \\cos{\\left(\\omega_{x} \\right)} \\cos{\\left(\\omega_{y} \\right)} & - 4 y \\left(3 \\mu x + 1\\right) \\left(3 \\mu \\left(p_{x} \\sin{\\left(\\omega_{x} \\right)} - x \\cos{\\left(\\omega_{x} \\right)}\\right) - 1\\right) \\left(p_{y} \\sin{\\left(\\omega_{y} \\right)} - y \\cos{\\left(\\omega_{y} \\right)}\\right) \\cos{\\left(\\omega_{x} \\right)} \\cos{\\left(\\omega_{y} \\right)} - \\left(\\left(3 \\mu \\left(x^{2} - y^{2}\\right) + 2 x\\right) \\sin{\\left(\\omega_{y} \\right)} - \\cos{\\left(\\omega_{y} \\right)}\\right) \\cos{\\left(\\omega_{y} \\right)} - \\left(\\left(3 \\mu \\left(x^{2} - y^{2}\\right) + 2 x\\right) \\cos{\\left(\\omega_{y} \\right)} + \\sin{\\left(\\omega_{y} \\right)}\\right) \\left(3 \\mu \\left(\\left(p_{x} \\sin{\\left(\\omega_{x} \\right)} - x \\cos{\\left(\\omega_{x} \\right)}\\right)^{2} - \\left(p_{y} \\sin{\\left(\\omega_{y} \\right)} - y \\cos{\\left(\\omega_{y} \\right)}\\right)^{2}\\right) \\cos{\\left(\\omega_{y} \\right)} - 2 \\left(p_{x} \\sin{\\left(\\omega_{x} \\right)} - x \\cos{\\left(\\omega_{x} \\right)}\\right) \\cos{\\left(\\omega_{y} \\right)} + \\sin{\\left(\\omega_{y} \\right)}\\right) & \\left(3 \\mu \\left(\\left(p_{x} \\sin{\\left(\\omega_{x} \\right)} - x \\cos{\\left(\\omega_{x} \\right)}\\right)^{2} - \\left(p_{y} \\sin{\\left(\\omega_{y} \\right)} - y \\cos{\\left(\\omega_{y} \\right)}\\right)^{2}\\right) \\cos{\\left(\\omega_{y} \\right)} - 2 \\left(p_{x} \\sin{\\left(\\omega_{x} \\right)} - x \\cos{\\left(\\omega_{x} \\right)}\\right) \\cos{\\left(\\omega_{y} \\right)} + 2 \\sin{\\left(\\omega_{y} \\right)}\\right) \\cos{\\left(\\omega_{y} \\right)}\\\\- 2 y \\left(3 \\mu x + 1\\right) \\left(- 3 \\mu \\left(\\left(p_{x} \\sin{\\left(\\omega_{x} \\right)} - x \\cos{\\left(\\omega_{x} \\right)}\\right)^{2} - \\left(p_{y} \\sin{\\left(\\omega_{y} \\right)} - y \\cos{\\left(\\omega_{y} \\right)}\\right)^{2}\\right) \\sin{\\left(\\omega_{y} \\right)} + 2 \\left(p_{x} \\sin{\\left(\\omega_{x} \\right)} - x \\cos{\\left(\\omega_{x} \\right)}\\right) \\sin{\\left(\\omega_{y} \\right)} + \\cos{\\left(\\omega_{y} \\right)}\\right) \\cos{\\left(\\omega_{y} \\right)} + 2 y \\left(3 \\mu x + 1\\right) \\sin^{2}{\\left(\\omega_{y} \\right)} - 2 \\cdot \\left(3 \\mu \\left(p_{x} \\sin{\\left(\\omega_{x} \\right)} - x \\cos{\\left(\\omega_{x} \\right)}\\right) - 1\\right) \\left(p_{y} \\sin{\\left(\\omega_{y} \\right)} - y \\cos{\\left(\\omega_{y} \\right)}\\right) \\left(\\left(3 \\mu \\left(x^{2} - y^{2}\\right) + 2 x\\right) \\cos{\\left(\\omega_{x} \\right)} - \\sin{\\left(\\omega_{x} \\right)}\\right) \\sin{\\left(\\omega_{y} \\right)} & - 2 \\cdot \\left(3 \\mu \\left(p_{x} \\sin{\\left(\\omega_{x} \\right)} - x \\cos{\\left(\\omega_{x} \\right)}\\right) - 1\\right) \\left(p_{y} \\sin{\\left(\\omega_{y} \\right)} - y \\cos{\\left(\\omega_{y} \\right)}\\right) \\sin{\\left(\\omega_{y} \\right)} \\cos{\\left(\\omega_{x} \\right)} & 4 y \\left(3 \\mu x + 1\\right) \\left(3 \\mu \\left(p_{x} \\sin{\\left(\\omega_{x} \\right)} - x \\cos{\\left(\\omega_{x} \\right)}\\right) - 1\\right) \\left(p_{y} \\sin{\\left(\\omega_{y} \\right)} - y \\cos{\\left(\\omega_{y} \\right)}\\right) \\sin{\\left(\\omega_{y} \\right)} \\cos{\\left(\\omega_{x} \\right)} + \\left(\\left(3 \\mu \\left(x^{2} - y^{2}\\right) + 2 x\\right) \\sin{\\left(\\omega_{y} \\right)} - \\cos{\\left(\\omega_{y} \\right)}\\right) \\sin{\\left(\\omega_{y} \\right)} - \\left(\\left(3 \\mu \\left(x^{2} - y^{2}\\right) + 2 x\\right) \\cos{\\left(\\omega_{y} \\right)} + \\sin{\\left(\\omega_{y} \\right)}\\right) \\left(- 3 \\mu \\left(\\left(p_{x} \\sin{\\left(\\omega_{x} \\right)} - x \\cos{\\left(\\omega_{x} \\right)}\\right)^{2} - \\left(p_{y} \\sin{\\left(\\omega_{y} \\right)} - y \\cos{\\left(\\omega_{y} \\right)}\\right)^{2}\\right) \\sin{\\left(\\omega_{y} \\right)} + 2 \\left(p_{x} \\sin{\\left(\\omega_{x} \\right)} - x \\cos{\\left(\\omega_{x} \\right)}\\right) \\sin{\\left(\\omega_{y} \\right)} + \\cos{\\left(\\omega_{y} \\right)}\\right) & \\left(- 3 \\mu \\left(\\left(p_{x} \\sin{\\left(\\omega_{x} \\right)} - x \\cos{\\left(\\omega_{x} \\right)}\\right)^{2} - \\left(p_{y} \\sin{\\left(\\omega_{y} \\right)} - y \\cos{\\left(\\omega_{y} \\right)}\\right)^{2}\\right) \\sin{\\left(\\omega_{y} \\right)} + 2 \\left(p_{x} \\sin{\\left(\\omega_{x} \\right)} - x \\cos{\\left(\\omega_{x} \\right)}\\right) \\sin{\\left(\\omega_{y} \\right)} + \\cos{\\left(\\omega_{y} \\right)}\\right) \\cos{\\left(\\omega_{y} \\right)} - \\sin^{2}{\\left(\\omega_{y} \\right)}\\end{matrix}\\right]$"
      ],
      "text/plain": [
       "Matrix([\n",
       "[-4*y*(3*mu*x + 1)*(3*mu*(p_x*sin(omega_x) - x*cos(omega_x)) - 1)*(p_y*sin(omega_y) - y*cos(omega_y))*cos(omega_x)*cos(omega_y) + ((3*mu*(x**2 - y**2) + 2*x)*sin(omega_x) + cos(omega_x))*cos(omega_x) + ((3*mu*(x**2 - y**2) + 2*x)*cos(omega_x) - sin(omega_x))*(-3*mu*((p_x*sin(omega_x) - x*cos(omega_x))**2 - (p_y*sin(omega_y) - y*cos(omega_y))**2)*cos(omega_x) + p_x*sin(2*omega_x) - x*cos(2*omega_x) - x + sin(omega_x)),                  (-3*mu*((p_x*sin(omega_x) - x*cos(omega_x))**2 - (p_y*sin(omega_y) - y*cos(omega_y))**2)*cos(omega_x) + p_x*sin(2*omega_x) - x*cos(2*omega_x) - x + 2*sin(omega_x))*cos(omega_x),                                                              2*(-y*(3*mu*x + 1)*(-3*mu*((p_x*sin(omega_x) - x*cos(omega_x))**2 - (p_y*sin(omega_y) - y*cos(omega_y))**2)*cos(omega_x) + p_x*sin(2*omega_x) - x*cos(2*omega_x) - x + sin(omega_x)) - y*(3*mu*x + 1)*sin(omega_x) - (3*mu*(p_x*sin(omega_x) - x*cos(omega_x)) - 1)*(p_y*sin(omega_y) - y*cos(omega_y))*((3*mu*(x**2 - y**2) + 2*x)*cos(omega_y) + sin(omega_y)))*cos(omega_x),                                                                                            2*(3*mu*(p_x*sin(omega_x) - x*cos(omega_x)) - 1)*(p_y*sin(omega_y) - y*cos(omega_y))*cos(omega_x)*cos(omega_y)],\n",
       "[4*y*(3*mu*x + 1)*(3*mu*(p_x*sin(omega_x) - x*cos(omega_x)) - 1)*(p_y*sin(omega_y) - y*cos(omega_y))*sin(omega_x)*cos(omega_y) - ((3*mu*(x**2 - y**2) + 2*x)*sin(omega_x) + cos(omega_x))*sin(omega_x) + ((3*mu*(x**2 - y**2) + 2*x)*cos(omega_x) - sin(omega_x))*(3*mu*((p_x*sin(omega_x) - x*cos(omega_x))**2 - (p_y*sin(omega_y) - y*cos(omega_y))**2)*sin(omega_x) + p_x*cos(2*omega_x) - p_x + x*sin(2*omega_x) + cos(omega_x)), (3*mu*((p_x*sin(omega_x) - x*cos(omega_x))**2 - (p_y*sin(omega_y) - y*cos(omega_y))**2)*sin(omega_x) + p_x*cos(2*omega_x) - p_x + x*sin(2*omega_x) + cos(omega_x))*cos(omega_x) - sin(omega_x)**2,                                           -2*y*(3*mu*x + 1)*(3*mu*((p_x*sin(omega_x) - x*cos(omega_x))**2 - (p_y*sin(omega_y) - y*cos(omega_y))**2)*sin(omega_x) + p_x*cos(2*omega_x) - p_x + x*sin(2*omega_x) + cos(omega_x))*cos(omega_x) + 2*y*(3*mu*x + 1)*sin(omega_x)**2 + 2*(3*mu*(p_x*sin(omega_x) - x*cos(omega_x)) - 1)*(p_y*sin(omega_y) - y*cos(omega_y))*((3*mu*(x**2 - y**2) + 2*x)*cos(omega_y) + sin(omega_y))*sin(omega_x),                                                                                           -2*(3*mu*(p_x*sin(omega_x) - x*cos(omega_x)) - 1)*(p_y*sin(omega_y) - y*cos(omega_y))*sin(omega_x)*cos(omega_y)],\n",
       "[                                             2*(-y*(3*mu*x + 1)*(3*mu*((p_x*sin(omega_x) - x*cos(omega_x))**2 - (p_y*sin(omega_y) - y*cos(omega_y))**2)*cos(omega_y) - 2*(p_x*sin(omega_x) - x*cos(omega_x))*cos(omega_y) + sin(omega_y)) - y*(3*mu*x + 1)*sin(omega_y) + (3*mu*(p_x*sin(omega_x) - x*cos(omega_x)) - 1)*(p_y*sin(omega_y) - y*cos(omega_y))*((3*mu*(x**2 - y**2) + 2*x)*cos(omega_x) - sin(omega_x)))*cos(omega_y),                                                                                    2*(3*mu*(p_x*sin(omega_x) - x*cos(omega_x)) - 1)*(p_y*sin(omega_y) - y*cos(omega_y))*cos(omega_x)*cos(omega_y), -4*y*(3*mu*x + 1)*(3*mu*(p_x*sin(omega_x) - x*cos(omega_x)) - 1)*(p_y*sin(omega_y) - y*cos(omega_y))*cos(omega_x)*cos(omega_y) - ((3*mu*(x**2 - y**2) + 2*x)*sin(omega_y) - cos(omega_y))*cos(omega_y) - ((3*mu*(x**2 - y**2) + 2*x)*cos(omega_y) + sin(omega_y))*(3*mu*((p_x*sin(omega_x) - x*cos(omega_x))**2 - (p_y*sin(omega_y) - y*cos(omega_y))**2)*cos(omega_y) - 2*(p_x*sin(omega_x) - x*cos(omega_x))*cos(omega_y) + sin(omega_y)),                  (3*mu*((p_x*sin(omega_x) - x*cos(omega_x))**2 - (p_y*sin(omega_y) - y*cos(omega_y))**2)*cos(omega_y) - 2*(p_x*sin(omega_x) - x*cos(omega_x))*cos(omega_y) + 2*sin(omega_y))*cos(omega_y)],\n",
       "[                          -2*y*(3*mu*x + 1)*(-3*mu*((p_x*sin(omega_x) - x*cos(omega_x))**2 - (p_y*sin(omega_y) - y*cos(omega_y))**2)*sin(omega_y) + 2*(p_x*sin(omega_x) - x*cos(omega_x))*sin(omega_y) + cos(omega_y))*cos(omega_y) + 2*y*(3*mu*x + 1)*sin(omega_y)**2 - 2*(3*mu*(p_x*sin(omega_x) - x*cos(omega_x)) - 1)*(p_y*sin(omega_y) - y*cos(omega_y))*((3*mu*(x**2 - y**2) + 2*x)*cos(omega_x) - sin(omega_x))*sin(omega_y),                                                                                   -2*(3*mu*(p_x*sin(omega_x) - x*cos(omega_x)) - 1)*(p_y*sin(omega_y) - y*cos(omega_y))*sin(omega_y)*cos(omega_x), 4*y*(3*mu*x + 1)*(3*mu*(p_x*sin(omega_x) - x*cos(omega_x)) - 1)*(p_y*sin(omega_y) - y*cos(omega_y))*sin(omega_y)*cos(omega_x) + ((3*mu*(x**2 - y**2) + 2*x)*sin(omega_y) - cos(omega_y))*sin(omega_y) - ((3*mu*(x**2 - y**2) + 2*x)*cos(omega_y) + sin(omega_y))*(-3*mu*((p_x*sin(omega_x) - x*cos(omega_x))**2 - (p_y*sin(omega_y) - y*cos(omega_y))**2)*sin(omega_y) + 2*(p_x*sin(omega_x) - x*cos(omega_x))*sin(omega_y) + cos(omega_y)), (-3*mu*((p_x*sin(omega_x) - x*cos(omega_x))**2 - (p_y*sin(omega_y) - y*cos(omega_y))**2)*sin(omega_y) + 2*(p_x*sin(omega_x) - x*cos(omega_x))*sin(omega_y) + cos(omega_y))*cos(omega_y) - sin(omega_y)**2]])"
      ]
     },
     "execution_count": 44,
     "metadata": {},
     "output_type": "execute_result"
    }
   ],
   "source": [
    "simplify(jacobian_rev.T * jacobian)"
   ]
  },
  {
   "cell_type": "code",
   "execution_count": 45,
   "metadata": {},
   "outputs": [
    {
     "data": {
      "text/latex": [
       "$\\displaystyle \\left[\\begin{matrix}\\left(\\left(3 \\mu \\left(x^{2} - y^{2}\\right) + 2 x\\right) \\sin{\\left(\\omega_{x} \\right)} + \\cos{\\left(\\omega_{x} \\right)}\\right) \\cos{\\left(\\omega_{x} \\right)} + \\left(- 3 \\mu \\left(\\left(p_{x} \\sin{\\left(\\omega_{x} \\right)} - x \\cos{\\left(\\omega_{x} \\right)}\\right)^{2} - \\left(p_{y} \\sin{\\left(\\omega_{y} \\right)} - y \\cos{\\left(\\omega_{y} \\right)}\\right)^{2}\\right) \\cos{\\left(\\omega_{x} \\right)} + p_{x} \\sin{\\left(2 \\omega_{x} \\right)} - x \\cos{\\left(2 \\omega_{x} \\right)} - x + \\sin{\\left(\\omega_{x} \\right)}\\right) \\sin{\\left(\\omega_{x} \\right)} & \\left(- 3 \\mu \\left(x^{2} - y^{2}\\right) + 3 \\mu \\left(\\left(p_{x} \\sin{\\left(\\omega_{x} \\right)} - x \\cos{\\left(\\omega_{x} \\right)}\\right)^{2} - \\left(p_{y} \\sin{\\left(\\omega_{y} \\right)} - y \\cos{\\left(\\omega_{y} \\right)}\\right)^{2}\\right) - 2 p_{x} \\sin{\\left(\\omega_{x} \\right)} + 2 x \\cos{\\left(\\omega_{x} \\right)} - 2 x\\right) \\sin^{2}{\\left(\\omega_{x} \\right)} & 2 \\left(- y \\left(3 \\mu x + 1\\right) + \\left(3 \\mu \\left(p_{x} \\sin{\\left(\\omega_{x} \\right)} - x \\cos{\\left(\\omega_{x} \\right)}\\right) - 1\\right) \\left(p_{y} \\sin{\\left(\\omega_{y} \\right)} - y \\cos{\\left(\\omega_{y} \\right)}\\right)\\right) \\sin{\\left(\\omega_{x} \\right)} \\cos{\\left(\\omega_{y} \\right)} & 2 \\left(y \\left(3 \\mu x + 1\\right) - \\left(3 \\mu \\left(p_{x} \\sin{\\left(\\omega_{x} \\right)} - x \\cos{\\left(\\omega_{x} \\right)}\\right) - 1\\right) \\left(p_{y} \\sin{\\left(\\omega_{y} \\right)} - y \\cos{\\left(\\omega_{y} \\right)}\\right)\\right) \\sin{\\left(\\omega_{x} \\right)} \\sin{\\left(\\omega_{y} \\right)}\\\\\\left(3 \\mu \\left(x^{2} - y^{2}\\right) - 3 \\mu \\left(\\left(p_{x} \\sin{\\left(\\omega_{x} \\right)} - x \\cos{\\left(\\omega_{x} \\right)}\\right)^{2} - \\left(p_{y} \\sin{\\left(\\omega_{y} \\right)} - y \\cos{\\left(\\omega_{y} \\right)}\\right)^{2}\\right) + 2 p_{x} \\sin{\\left(\\omega_{x} \\right)} - 2 x \\cos{\\left(\\omega_{x} \\right)} + 2 x\\right) \\cos^{2}{\\left(\\omega_{x} \\right)} & - \\left(\\left(3 \\mu \\left(x^{2} - y^{2}\\right) + 2 x\\right) \\cos{\\left(\\omega_{x} \\right)} - \\sin{\\left(\\omega_{x} \\right)}\\right) \\sin{\\left(\\omega_{x} \\right)} + \\left(3 \\mu \\left(\\left(p_{x} \\sin{\\left(\\omega_{x} \\right)} - x \\cos{\\left(\\omega_{x} \\right)}\\right)^{2} - \\left(p_{y} \\sin{\\left(\\omega_{y} \\right)} - y \\cos{\\left(\\omega_{y} \\right)}\\right)^{2}\\right) \\sin{\\left(\\omega_{x} \\right)} + p_{x} \\cos{\\left(2 \\omega_{x} \\right)} - p_{x} + x \\sin{\\left(2 \\omega_{x} \\right)} + \\cos{\\left(\\omega_{x} \\right)}\\right) \\cos{\\left(\\omega_{x} \\right)} & 2 \\left(- y \\left(3 \\mu x + 1\\right) + \\left(3 \\mu \\left(p_{x} \\sin{\\left(\\omega_{x} \\right)} - x \\cos{\\left(\\omega_{x} \\right)}\\right) - 1\\right) \\left(p_{y} \\sin{\\left(\\omega_{y} \\right)} - y \\cos{\\left(\\omega_{y} \\right)}\\right)\\right) \\cos{\\left(\\omega_{x} \\right)} \\cos{\\left(\\omega_{y} \\right)} & 2 \\left(y \\left(3 \\mu x + 1\\right) - \\left(3 \\mu \\left(p_{x} \\sin{\\left(\\omega_{x} \\right)} - x \\cos{\\left(\\omega_{x} \\right)}\\right) - 1\\right) \\left(p_{y} \\sin{\\left(\\omega_{y} \\right)} - y \\cos{\\left(\\omega_{y} \\right)}\\right)\\right) \\sin{\\left(\\omega_{y} \\right)} \\cos{\\left(\\omega_{x} \\right)}\\\\2 \\left(- y \\left(3 \\mu x + 1\\right) + \\left(3 \\mu \\left(p_{x} \\sin{\\left(\\omega_{x} \\right)} - x \\cos{\\left(\\omega_{x} \\right)}\\right) - 1\\right) \\left(p_{y} \\sin{\\left(\\omega_{y} \\right)} - y \\cos{\\left(\\omega_{y} \\right)}\\right)\\right) \\sin{\\left(\\omega_{y} \\right)} \\cos{\\left(\\omega_{x} \\right)} & 2 \\left(y \\left(3 \\mu x + 1\\right) - \\left(3 \\mu \\left(p_{x} \\sin{\\left(\\omega_{x} \\right)} - x \\cos{\\left(\\omega_{x} \\right)}\\right) - 1\\right) \\left(p_{y} \\sin{\\left(\\omega_{y} \\right)} - y \\cos{\\left(\\omega_{y} \\right)}\\right)\\right) \\sin{\\left(\\omega_{x} \\right)} \\sin{\\left(\\omega_{y} \\right)} & - \\left(\\left(3 \\mu \\left(x^{2} - y^{2}\\right) + 2 x\\right) \\sin{\\left(\\omega_{y} \\right)} - \\cos{\\left(\\omega_{y} \\right)}\\right) \\cos{\\left(\\omega_{y} \\right)} + \\left(3 \\mu \\left(\\left(p_{x} \\sin{\\left(\\omega_{x} \\right)} - x \\cos{\\left(\\omega_{x} \\right)}\\right)^{2} - \\left(p_{y} \\sin{\\left(\\omega_{y} \\right)} - y \\cos{\\left(\\omega_{y} \\right)}\\right)^{2}\\right) \\cos{\\left(\\omega_{y} \\right)} - 2 \\left(p_{x} \\sin{\\left(\\omega_{x} \\right)} - x \\cos{\\left(\\omega_{x} \\right)}\\right) \\cos{\\left(\\omega_{y} \\right)} + \\sin{\\left(\\omega_{y} \\right)}\\right) \\sin{\\left(\\omega_{y} \\right)} & \\left(3 \\mu \\left(x^{2} - y^{2}\\right) - 3 \\mu \\left(\\left(p_{x} \\sin{\\left(\\omega_{x} \\right)} - x \\cos{\\left(\\omega_{x} \\right)}\\right)^{2} - \\left(p_{y} \\sin{\\left(\\omega_{y} \\right)} - y \\cos{\\left(\\omega_{y} \\right)}\\right)^{2}\\right) + 2 p_{x} \\sin{\\left(\\omega_{x} \\right)} - 2 x \\cos{\\left(\\omega_{x} \\right)} + 2 x\\right) \\sin^{2}{\\left(\\omega_{y} \\right)}\\\\2 \\left(- y \\left(3 \\mu x + 1\\right) + \\left(3 \\mu \\left(p_{x} \\sin{\\left(\\omega_{x} \\right)} - x \\cos{\\left(\\omega_{x} \\right)}\\right) - 1\\right) \\left(p_{y} \\sin{\\left(\\omega_{y} \\right)} - y \\cos{\\left(\\omega_{y} \\right)}\\right)\\right) \\cos{\\left(\\omega_{x} \\right)} \\cos{\\left(\\omega_{y} \\right)} & 2 \\left(y \\left(3 \\mu x + 1\\right) - \\left(3 \\mu \\left(p_{x} \\sin{\\left(\\omega_{x} \\right)} - x \\cos{\\left(\\omega_{x} \\right)}\\right) - 1\\right) \\left(p_{y} \\sin{\\left(\\omega_{y} \\right)} - y \\cos{\\left(\\omega_{y} \\right)}\\right)\\right) \\sin{\\left(\\omega_{x} \\right)} \\cos{\\left(\\omega_{y} \\right)} & \\left(- 3 \\mu \\left(x^{2} - y^{2}\\right) + 3 \\mu \\left(\\left(p_{x} \\sin{\\left(\\omega_{x} \\right)} - x \\cos{\\left(\\omega_{x} \\right)}\\right)^{2} - \\left(p_{y} \\sin{\\left(\\omega_{y} \\right)} - y \\cos{\\left(\\omega_{y} \\right)}\\right)^{2}\\right) - 2 p_{x} \\sin{\\left(\\omega_{x} \\right)} + 2 x \\cos{\\left(\\omega_{x} \\right)} - 2 x\\right) \\cos^{2}{\\left(\\omega_{y} \\right)} & \\left(\\left(3 \\mu \\left(x^{2} - y^{2}\\right) + 2 x\\right) \\cos{\\left(\\omega_{y} \\right)} + \\sin{\\left(\\omega_{y} \\right)}\\right) \\sin{\\left(\\omega_{y} \\right)} + \\left(- 3 \\mu \\left(\\left(p_{x} \\sin{\\left(\\omega_{x} \\right)} - x \\cos{\\left(\\omega_{x} \\right)}\\right)^{2} - \\left(p_{y} \\sin{\\left(\\omega_{y} \\right)} - y \\cos{\\left(\\omega_{y} \\right)}\\right)^{2}\\right) \\sin{\\left(\\omega_{y} \\right)} + 2 \\left(p_{x} \\sin{\\left(\\omega_{x} \\right)} - x \\cos{\\left(\\omega_{x} \\right)}\\right) \\sin{\\left(\\omega_{y} \\right)} + \\cos{\\left(\\omega_{y} \\right)}\\right) \\cos{\\left(\\omega_{y} \\right)}\\end{matrix}\\right]$"
      ],
      "text/plain": [
       "Matrix([\n",
       "[((3*mu*(x**2 - y**2) + 2*x)*sin(omega_x) + cos(omega_x))*cos(omega_x) + (-3*mu*((p_x*sin(omega_x) - x*cos(omega_x))**2 - (p_y*sin(omega_y) - y*cos(omega_y))**2)*cos(omega_x) + p_x*sin(2*omega_x) - x*cos(2*omega_x) - x + sin(omega_x))*sin(omega_x),                                                                             (-3*mu*(x**2 - y**2) + 3*mu*((p_x*sin(omega_x) - x*cos(omega_x))**2 - (p_y*sin(omega_y) - y*cos(omega_y))**2) - 2*p_x*sin(omega_x) + 2*x*cos(omega_x) - 2*x)*sin(omega_x)**2,                                                                                                                              2*(-y*(3*mu*x + 1) + (3*mu*(p_x*sin(omega_x) - x*cos(omega_x)) - 1)*(p_y*sin(omega_y) - y*cos(omega_y)))*sin(omega_x)*cos(omega_y),                                                                                                                               2*(y*(3*mu*x + 1) - (3*mu*(p_x*sin(omega_x) - x*cos(omega_x)) - 1)*(p_y*sin(omega_y) - y*cos(omega_y)))*sin(omega_x)*sin(omega_y)],\n",
       "[                                                                           (3*mu*(x**2 - y**2) - 3*mu*((p_x*sin(omega_x) - x*cos(omega_x))**2 - (p_y*sin(omega_y) - y*cos(omega_y))**2) + 2*p_x*sin(omega_x) - 2*x*cos(omega_x) + 2*x)*cos(omega_x)**2, -((3*mu*(x**2 - y**2) + 2*x)*cos(omega_x) - sin(omega_x))*sin(omega_x) + (3*mu*((p_x*sin(omega_x) - x*cos(omega_x))**2 - (p_y*sin(omega_y) - y*cos(omega_y))**2)*sin(omega_x) + p_x*cos(2*omega_x) - p_x + x*sin(2*omega_x) + cos(omega_x))*cos(omega_x),                                                                                                                              2*(-y*(3*mu*x + 1) + (3*mu*(p_x*sin(omega_x) - x*cos(omega_x)) - 1)*(p_y*sin(omega_y) - y*cos(omega_y)))*cos(omega_x)*cos(omega_y),                                                                                                                               2*(y*(3*mu*x + 1) - (3*mu*(p_x*sin(omega_x) - x*cos(omega_x)) - 1)*(p_y*sin(omega_y) - y*cos(omega_y)))*sin(omega_y)*cos(omega_x)],\n",
       "[                                                                                                                    2*(-y*(3*mu*x + 1) + (3*mu*(p_x*sin(omega_x) - x*cos(omega_x)) - 1)*(p_y*sin(omega_y) - y*cos(omega_y)))*sin(omega_y)*cos(omega_x),                                                                                                                        2*(y*(3*mu*x + 1) - (3*mu*(p_x*sin(omega_x) - x*cos(omega_x)) - 1)*(p_y*sin(omega_y) - y*cos(omega_y)))*sin(omega_x)*sin(omega_y), -((3*mu*(x**2 - y**2) + 2*x)*sin(omega_y) - cos(omega_y))*cos(omega_y) + (3*mu*((p_x*sin(omega_x) - x*cos(omega_x))**2 - (p_y*sin(omega_y) - y*cos(omega_y))**2)*cos(omega_y) - 2*(p_x*sin(omega_x) - x*cos(omega_x))*cos(omega_y) + sin(omega_y))*sin(omega_y),                                                                                     (3*mu*(x**2 - y**2) - 3*mu*((p_x*sin(omega_x) - x*cos(omega_x))**2 - (p_y*sin(omega_y) - y*cos(omega_y))**2) + 2*p_x*sin(omega_x) - 2*x*cos(omega_x) + 2*x)*sin(omega_y)**2],\n",
       "[                                                                                                                    2*(-y*(3*mu*x + 1) + (3*mu*(p_x*sin(omega_x) - x*cos(omega_x)) - 1)*(p_y*sin(omega_y) - y*cos(omega_y)))*cos(omega_x)*cos(omega_y),                                                                                                                        2*(y*(3*mu*x + 1) - (3*mu*(p_x*sin(omega_x) - x*cos(omega_x)) - 1)*(p_y*sin(omega_y) - y*cos(omega_y)))*sin(omega_x)*cos(omega_y),                                                                                    (-3*mu*(x**2 - y**2) + 3*mu*((p_x*sin(omega_x) - x*cos(omega_x))**2 - (p_y*sin(omega_y) - y*cos(omega_y))**2) - 2*p_x*sin(omega_x) + 2*x*cos(omega_x) - 2*x)*cos(omega_y)**2, ((3*mu*(x**2 - y**2) + 2*x)*cos(omega_y) + sin(omega_y))*sin(omega_y) + (-3*mu*((p_x*sin(omega_x) - x*cos(omega_x))**2 - (p_y*sin(omega_y) - y*cos(omega_y))**2)*sin(omega_y) + 2*(p_x*sin(omega_x) - x*cos(omega_x))*sin(omega_y) + cos(omega_y))*cos(omega_y)]])"
      ]
     },
     "execution_count": 45,
     "metadata": {},
     "output_type": "execute_result"
    }
   ],
   "source": [
    "simplify(jacobian * jacobian_rev)"
   ]
  },
  {
   "cell_type": "code",
   "execution_count": 28,
   "metadata": {},
   "outputs": [
    {
     "data": {
      "text/latex": [
       "$\\displaystyle c_{x} x + s_{x} \\left(\\mu \\left(x^{3} - 3 x y^{2}\\right) + p_{x} + x^{2} - y^{2}\\right)$"
      ],
      "text/plain": [
       "c_x*x + s_x*(mu*(x**3 - 3*x*y**2) + p_x + x**2 - y**2)"
      ]
     },
     "execution_count": 28,
     "metadata": {},
     "output_type": "execute_result"
    }
   ],
   "source": [
    "x_map"
   ]
  },
  {
   "cell_type": "code",
   "execution_count": 48,
   "metadata": {},
   "outputs": [
    {
     "data": {
      "text/latex": [
       "$\\displaystyle \\left[\\begin{matrix}1 & 0 & 0 & 0\\\\\\frac{3 \\mu p_{x}^{2} \\cos{\\left(2 \\omega_{x} \\right)}}{2} - \\frac{3 \\mu p_{x}^{2}}{2} + 3 \\mu p_{x} x \\sin{\\left(2 \\omega_{x} \\right)} - \\frac{3 \\mu p_{y}^{2} \\cos{\\left(2 \\omega_{y} \\right)}}{2} + \\frac{3 \\mu p_{y}^{2}}{2} - 3 \\mu p_{y} y \\sin{\\left(2 \\omega_{y} \\right)} - \\frac{3 \\mu x^{2} \\cos{\\left(2 \\omega_{x} \\right)}}{2} + \\frac{3 \\mu x^{2}}{2} + \\frac{3 \\mu y^{2} \\cos{\\left(2 \\omega_{y} \\right)}}{2} - \\frac{3 \\mu y^{2}}{2} + 2 p_{x} \\sin{\\left(\\omega_{x} \\right)} - 2 x \\cos{\\left(\\omega_{x} \\right)} + 2 x & 1 & 6 \\mu p_{x} p_{y} \\sin{\\left(\\omega_{x} \\right)} \\sin{\\left(\\omega_{y} \\right)} - 6 \\mu p_{x} y \\sin{\\left(\\omega_{x} \\right)} \\cos{\\left(\\omega_{y} \\right)} - 6 \\mu p_{y} x \\sin{\\left(\\omega_{y} \\right)} \\cos{\\left(\\omega_{x} \\right)} + 6 \\mu x y \\cos{\\left(\\omega_{x} \\right)} \\cos{\\left(\\omega_{y} \\right)} - 6 \\mu x y - 2 p_{y} \\sin{\\left(\\omega_{y} \\right)} + 2 y \\cos{\\left(\\omega_{y} \\right)} - 2 y & 0\\\\0 & 0 & 1 & 0\\\\6 \\mu p_{x} p_{y} \\sin{\\left(\\omega_{x} \\right)} \\sin{\\left(\\omega_{y} \\right)} - 6 \\mu p_{x} y \\sin{\\left(\\omega_{x} \\right)} \\cos{\\left(\\omega_{y} \\right)} - 6 \\mu p_{y} x \\sin{\\left(\\omega_{y} \\right)} \\cos{\\left(\\omega_{x} \\right)} + 6 \\mu x y \\cos{\\left(\\omega_{x} \\right)} \\cos{\\left(\\omega_{y} \\right)} - 6 \\mu x y - 2 p_{y} \\sin{\\left(\\omega_{y} \\right)} + 2 y \\cos{\\left(\\omega_{y} \\right)} - 2 y & 0 & - \\frac{3 \\mu p_{x}^{2} \\cos{\\left(2 \\omega_{x} \\right)}}{2} + \\frac{3 \\mu p_{x}^{2}}{2} - 3 \\mu p_{x} x \\sin{\\left(2 \\omega_{x} \\right)} + \\frac{3 \\mu p_{y}^{2} \\cos{\\left(2 \\omega_{y} \\right)}}{2} - \\frac{3 \\mu p_{y}^{2}}{2} + 3 \\mu p_{y} y \\sin{\\left(2 \\omega_{y} \\right)} + \\frac{3 \\mu x^{2} \\cos{\\left(2 \\omega_{x} \\right)}}{2} - \\frac{3 \\mu x^{2}}{2} - \\frac{3 \\mu y^{2} \\cos{\\left(2 \\omega_{y} \\right)}}{2} + \\frac{3 \\mu y^{2}}{2} - 2 p_{x} \\sin{\\left(\\omega_{x} \\right)} + 2 x \\cos{\\left(\\omega_{x} \\right)} - 2 x & 1\\end{matrix}\\right]$"
      ],
      "text/plain": [
       "Matrix([\n",
       "[                                                                                                                                                                                                                                                                                      1, 0,                                                                                                                                                                                                                                                                                        0, 0],\n",
       "[3*mu*p_x**2*cos(2*omega_x)/2 - 3*mu*p_x**2/2 + 3*mu*p_x*x*sin(2*omega_x) - 3*mu*p_y**2*cos(2*omega_y)/2 + 3*mu*p_y**2/2 - 3*mu*p_y*y*sin(2*omega_y) - 3*mu*x**2*cos(2*omega_x)/2 + 3*mu*x**2/2 + 3*mu*y**2*cos(2*omega_y)/2 - 3*mu*y**2/2 + 2*p_x*sin(omega_x) - 2*x*cos(omega_x) + 2*x, 1,                                                                       6*mu*p_x*p_y*sin(omega_x)*sin(omega_y) - 6*mu*p_x*y*sin(omega_x)*cos(omega_y) - 6*mu*p_y*x*sin(omega_y)*cos(omega_x) + 6*mu*x*y*cos(omega_x)*cos(omega_y) - 6*mu*x*y - 2*p_y*sin(omega_y) + 2*y*cos(omega_y) - 2*y, 0],\n",
       "[                                                                                                                                                                                                                                                                                      0, 0,                                                                                                                                                                                                                                                                                        1, 0],\n",
       "[                                                                     6*mu*p_x*p_y*sin(omega_x)*sin(omega_y) - 6*mu*p_x*y*sin(omega_x)*cos(omega_y) - 6*mu*p_y*x*sin(omega_y)*cos(omega_x) + 6*mu*x*y*cos(omega_x)*cos(omega_y) - 6*mu*x*y - 2*p_y*sin(omega_y) + 2*y*cos(omega_y) - 2*y, 0, -3*mu*p_x**2*cos(2*omega_x)/2 + 3*mu*p_x**2/2 - 3*mu*p_x*x*sin(2*omega_x) + 3*mu*p_y**2*cos(2*omega_y)/2 - 3*mu*p_y**2/2 + 3*mu*p_y*y*sin(2*omega_y) + 3*mu*x**2*cos(2*omega_x)/2 - 3*mu*x**2/2 - 3*mu*y**2*cos(2*omega_y)/2 + 3*mu*y**2/2 - 2*p_x*sin(omega_x) + 2*x*cos(omega_x) - 2*x, 1]])"
      ]
     },
     "execution_count": 48,
     "metadata": {},
     "output_type": "execute_result"
    }
   ],
   "source": [
    "simplify(jacobian_rev.T * jacobian.T)"
   ]
  },
  {
   "cell_type": "code",
   "execution_count": 49,
   "metadata": {},
   "outputs": [
    {
     "data": {
      "text/latex": [
       "$\\displaystyle \\left[\\begin{matrix}23 & 31\\\\34 & 46\\end{matrix}\\right]$"
      ],
      "text/plain": [
       "Matrix([\n",
       "[23, 31],\n",
       "[34, 46]])"
      ]
     },
     "execution_count": 49,
     "metadata": {},
     "output_type": "execute_result"
    }
   ],
   "source": [
    "t1 = Matrix([\n",
    "    [1, 2],\n",
    "    [3, 4]\n",
    "])\n",
    "t2 = Matrix([\n",
    "    [5, 6],\n",
    "    [7, 8]\n",
    "])\n",
    "t1.T * t2.T"
   ]
  },
  {
   "cell_type": "code",
   "execution_count": 52,
   "metadata": {},
   "outputs": [
    {
     "data": {
      "text/latex": [
       "$\\displaystyle \\left[\\begin{matrix}1 & 0\\\\0 & 1\\end{matrix}\\right]$"
      ],
      "text/plain": [
       "Matrix([\n",
       "[1, 0],\n",
       "[0, 1]])"
      ]
     },
     "execution_count": 52,
     "metadata": {},
     "output_type": "execute_result"
    }
   ],
   "source": [
    "r1 = Matrix([\n",
    "    [cos(tune_x), sin(tune_x)],\n",
    "    [-sin(tune_x), cos(tune_x)]\n",
    "])\n",
    "r2 = Matrix([\n",
    "    [cos(tune_x), -sin(tune_x)],\n",
    "    [sin(tune_x), cos(tune_x)]\n",
    "])\n",
    "simplify(r1 * r2)"
   ]
  },
  {
   "cell_type": "code",
   "execution_count": 54,
   "metadata": {},
   "outputs": [
    {
     "data": {
      "text/latex": [
       "$\\displaystyle \\left[\\begin{matrix}1\\\\\\frac{3 \\mu p_{x}^{2} \\cos{\\left(2 \\omega_{x} \\right)}}{2} - \\frac{3 \\mu p_{x}^{2}}{2} + 3 \\mu p_{x} x \\sin{\\left(2 \\omega_{x} \\right)} - \\frac{3 \\mu p_{y}^{2} \\cos{\\left(2 \\omega_{y} \\right)}}{2} + \\frac{3 \\mu p_{y}^{2}}{2} - 3 \\mu p_{y} y \\sin{\\left(2 \\omega_{y} \\right)} - \\frac{3 \\mu x^{2} \\cos{\\left(2 \\omega_{x} \\right)}}{2} + \\frac{3 \\mu x^{2}}{2} + \\frac{3 \\mu y^{2} \\cos{\\left(2 \\omega_{y} \\right)}}{2} - \\frac{3 \\mu y^{2}}{2} + 2 p_{x} \\sin{\\left(\\omega_{x} \\right)} - 2 x \\cos{\\left(\\omega_{x} \\right)} + 2 x\\\\0\\\\6 \\mu p_{x} p_{y} \\sin{\\left(\\omega_{x} \\right)} \\sin{\\left(\\omega_{y} \\right)} - 6 \\mu p_{x} y \\sin{\\left(\\omega_{x} \\right)} \\cos{\\left(\\omega_{y} \\right)} - 6 \\mu p_{y} x \\sin{\\left(\\omega_{y} \\right)} \\cos{\\left(\\omega_{x} \\right)} + 6 \\mu x y \\cos{\\left(\\omega_{x} \\right)} \\cos{\\left(\\omega_{y} \\right)} - 6 \\mu x y - 2 p_{y} \\sin{\\left(\\omega_{y} \\right)} + 2 y \\cos{\\left(\\omega_{y} \\right)} - 2 y\\end{matrix}\\right]$"
      ],
      "text/plain": [
       "Matrix([\n",
       "[                                                                                                                                                                                                                                                                                      1],\n",
       "[3*mu*p_x**2*cos(2*omega_x)/2 - 3*mu*p_x**2/2 + 3*mu*p_x*x*sin(2*omega_x) - 3*mu*p_y**2*cos(2*omega_y)/2 + 3*mu*p_y**2/2 - 3*mu*p_y*y*sin(2*omega_y) - 3*mu*x**2*cos(2*omega_x)/2 + 3*mu*x**2/2 + 3*mu*y**2*cos(2*omega_y)/2 - 3*mu*y**2/2 + 2*p_x*sin(omega_x) - 2*x*cos(omega_x) + 2*x],\n",
       "[                                                                                                                                                                                                                                                                                      0],\n",
       "[                                                                     6*mu*p_x*p_y*sin(omega_x)*sin(omega_y) - 6*mu*p_x*y*sin(omega_x)*cos(omega_y) - 6*mu*p_y*x*sin(omega_y)*cos(omega_x) + 6*mu*x*y*cos(omega_x)*cos(omega_y) - 6*mu*x*y - 2*p_y*sin(omega_y) + 2*y*cos(omega_y) - 2*y]])"
      ]
     },
     "execution_count": 54,
     "metadata": {},
     "output_type": "execute_result"
    }
   ],
   "source": [
    "test_vector = Matrix([1, 0, 0, 0])\n",
    "\n",
    "simplify(jacobian_rev * jacobian * test_vector)"
   ]
  },
  {
   "cell_type": "code",
   "execution_count": null,
   "metadata": {},
   "outputs": [],
   "source": []
  }
 ],
 "metadata": {
  "kernelspec": {
   "display_name": "Python 3.9.12 ('base')",
   "language": "python",
   "name": "python3"
  },
  "language_info": {
   "codemirror_mode": {
    "name": "ipython",
    "version": 3
   },
   "file_extension": ".py",
   "mimetype": "text/x-python",
   "name": "python",
   "nbconvert_exporter": "python",
   "pygments_lexer": "ipython3",
   "version": "3.9.12"
  },
  "orig_nbformat": 4,
  "vscode": {
   "interpreter": {
    "hash": "f3023bf899be63b57b0092dfcb418df687710750732f0ded6fe0bfa97468ce8c"
   }
  }
 },
 "nbformat": 4,
 "nbformat_minor": 2
}
