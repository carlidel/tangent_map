{
 "cells": [
  {
   "cell_type": "code",
   "execution_count": 1,
   "metadata": {},
   "outputs": [],
   "source": [
    "import os\n",
    "import h5py\n",
    "import numpy as np\n",
    "import matplotlib.pyplot as plt\n",
    "from tqdm import tqdm\n",
    "\n",
    "import sys  \n",
    "sys.path.insert(0, '/home/HPC/camontan/turchetti_paper/')\n",
    "\n",
    "from clustering_scripts import *"
   ]
  },
  {
   "cell_type": "code",
   "execution_count": 2,
   "metadata": {},
   "outputs": [],
   "source": [
    "f = h5py.File(f\"/home/HPC/camontan/turchetti_paper/output/focused_scan/partial_data.h5\", 'r')"
   ]
  },
  {
   "cell_type": "code",
   "execution_count": 3,
   "metadata": {},
   "outputs": [
    {
     "data": {
      "text/plain": [
       "<KeysViewHDF5 ['10', '100', '1000', '10000', '100000', '1000000', '10000000', '13', '138', '1389', '13894', '138949', '1389495', '13894954', '19', '193', '1930', '19306', '193069', '1930697', '19306977', '26', '268', '2682', '26826', '268269', '2682695', '26826957', '37', '372', '3727', '37275', '372759', '3727593', '51', '517', '5179', '51794', '517947', '5179474', '71', '719', '7196', '71968', '719685', '7196856', 'initial']>"
      ]
     },
     "execution_count": 3,
     "metadata": {},
     "output_type": "execute_result"
    }
   ],
   "source": [
    "f.keys()"
   ]
  },
  {
   "cell_type": "code",
   "execution_count": 4,
   "metadata": {},
   "outputs": [
    {
     "data": {
      "text/plain": [
       "<KeysViewHDF5 ['lyapunov_b_x', 'lyapunov_x']>"
      ]
     },
     "execution_count": 4,
     "metadata": {},
     "output_type": "execute_result"
    }
   ],
   "source": [
    "f['1000000'].keys()"
   ]
  },
  {
   "cell_type": "code",
   "execution_count": null,
   "metadata": {},
   "outputs": [],
   "source": [
    "fig, axs = plt.subplots(1, 2, figsize=(12, 10))\n",
    "\n",
    "axs[0].imshow(f['1000000']['lyapunov_x'][:].reshape(200, 200), origin='lower')\n",
    "axs[1].imshow(f['1000000']['lyapunov_b_x'][:].reshape(200, 200), origin='lower')"
   ]
  },
  {
   "cell_type": "code",
   "execution_count": null,
   "metadata": {},
   "outputs": [
    {
     "data": {
      "image/png": "[encoded data removed]",
      "text/plain": [
       "<Figure size 432x288 with 1 Axes>"
      ]
     },
     "metadata": {
      "needs_background": "light"
     },
     "output_type": "display_data"
    }
   ],
   "source": [
    "plt.hist(f['1000000']['lyapunov_x'][:], bins=50);\n",
    "plt.hist(f['1000000']['lyapunov_b_x'][:], bins=50);"
   ]
  },
  {
   "cell_type": "code",
   "execution_count": null,
   "metadata": {},
   "outputs": [],
   "source": [
    "idx = np.nanargmax(f['10000']['lyapunov_b_x'][:])\n",
    "time = []\n",
    "data_1 = []\n",
    "data_2 = []\n",
    "\n",
    "for key in f:\n",
    "    if not key.isdigit():\n",
    "        continue\n",
    "    time.append(int(key))\n",
    "    data_1.append(f[key]['lyapunov_x'][idx])\n",
    "    data_2.append(f[key]['lyapunov_b_x'][idx])\n",
    "\n",
    "time = np.array(time)\n",
    "data_1 = np.array(data_1)\n",
    "data_2 = np.array(data_2)\n",
    "\n",
    "sort_idx = np.argsort(time)\n",
    "time = time[sort_idx]\n",
    "data_1 = data_1[sort_idx]\n",
    "data_2 = data_2[sort_idx]"
   ]
  },
  {
   "cell_type": "code",
   "execution_count": null,
   "metadata": {},
   "outputs": [
    {
     "data": {
      "image/png": "[encoded data removed]",
      "text/plain": [
       "<Figure size 432x288 with 1 Axes>"
      ]
     },
     "metadata": {
      "needs_background": "light"
     },
     "output_type": "display_data"
    }
   ],
   "source": [
    "plt.plot(time, data_1/time, label='lyapunov_x')\n",
    "plt.plot(time, data_2/time, label='lyapunov_b_x')\n",
    "plt.xscale(\"log\")\n",
    "plt.yscale(\"log\")"
   ]
  },
  {
   "cell_type": "code",
   "execution_count": null,
   "metadata": {},
   "outputs": [
    {
     "data": {
      "text/plain": [
       "-5.44311586496637e-06"
      ]
     },
     "execution_count": 35,
     "metadata": {},
     "output_type": "execute_result"
    }
   ],
   "source": [
    "f['1000000']['lyapunov_b_x'][np.nanargmin(f['1000000']['lyapunov_b_x'][:])]"
   ]
  },
  {
   "cell_type": "code",
   "execution_count": null,
   "metadata": {},
   "outputs": [],
   "source": []
  }
 ],
 "metadata": {
  "kernelspec": {
   "display_name": "Python 3.9.12 ('base')",
   "language": "python",
   "name": "python3"
  },
  "language_info": {
   "codemirror_mode": {
    "name": "ipython",
    "version": 3
   },
   "file_extension": ".py",
   "mimetype": "text/x-python",
   "name": "python",
   "nbconvert_exporter": "python",
   "pygments_lexer": "ipython3",
   "version": "3.9.12"
  },
  "orig_nbformat": 4,
  "vscode": {
   "interpreter": {
    "hash": "f3023bf899be63b57b0092dfcb418df687710750732f0ded6fe0bfa97468ce8c"
   }
  }
 },
 "nbformat": 4,
 "nbformat_minor": 2
}
