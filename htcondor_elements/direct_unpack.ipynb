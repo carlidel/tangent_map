{
 "cells": [
  {
   "cell_type": "code",
   "execution_count": 1,
   "metadata": {},
   "outputs": [],
   "source": [
    "import json\n",
    "import itertools\n",
    "import copy\n",
    "import os\n",
    "\n",
    "def f_to_s_without_dot(f):\n",
    "    return (\n",
    "        str(f)\n",
    "        .replace(\".\", \"d\")\n",
    "        .replace(\"[\", \"\")\n",
    "        .replace(\"]\", \"\")\n",
    "        .replace(\" \", \"\")\n",
    "        .replace(\",\", \"_\")\n",
    "    )\n",
    "    \n",
    "def unpack_scans(config: dict):\n",
    "    keys = []\n",
    "    values = []\n",
    "    if \"scan\" in config:\n",
    "        for key, val in config[\"scan\"].items():\n",
    "            keys.append(key)\n",
    "            values.append(val)\n",
    "    else:\n",
    "        # set as scan_name \"default\" if there is no scan_name\n",
    "        if \"scan_name\" not in config:\n",
    "            config[\"scan_name\"] = \"default\"\n",
    "        return [config]\n",
    "\n",
    "    config_list = []\n",
    "    for vals in itertools.product(*values):\n",
    "        scan_name = \"\"\n",
    "        config_list.append(copy.deepcopy(config))\n",
    "        for k, v in zip(keys, vals):\n",
    "            # split k into k1 and k2 using as delimiter ':'\n",
    "            k1, k2 = k.split(\":\")\n",
    "            config_list[-1][k1][k2] = v\n",
    "            scan_name += f\"{k2}_{f_to_s_without_dot(v)}_\"\n",
    "        config_list[-1].pop(\"scan\")\n",
    "        config_list[-1][\"scan_name\"] = scan_name[:-1]\n",
    "\n",
    "    return config_list\n",
    "\n"
   ]
  },
  {
   "cell_type": "code",
   "execution_count": 2,
   "metadata": {},
   "outputs": [
    {
     "data": {
      "text/plain": [
       "['config_28_31_all_neo.json', 'config_168_201_all_neo.json']"
      ]
     },
     "execution_count": 2,
     "metadata": {},
     "output_type": "execute_result"
    }
   ],
   "source": [
    "base_path = \"/afs/cern.ch/work/c/camontan/public/tangent_map/htcondor_elements/configs/\"\n",
    "\n",
    "base_file_list = os.listdir(\"base_configs\")\n",
    "base_file_list"
   ]
  },
  {
   "cell_type": "code",
   "execution_count": 5,
   "metadata": {},
   "outputs": [],
   "source": [
    "all_configs = []\n",
    "\n",
    "# remove all files in configs\n",
    "for f in os.listdir(\"/home/HPC/camontan/turchetti_paper/htcondor_elements/configs/\"):\n",
    "    os.remove(\"/home/HPC/camontan/turchetti_paper/htcondor_elements/configs/\" + f)\n",
    "\n",
    "for f in base_file_list:\n",
    "    with open(\"base_configs/\" + f, \"r\") as file:\n",
    "        config = json.load(file)\n",
    "    config_list = unpack_scans(config)\n",
    "    for i, c in enumerate(config_list):\n",
    "        with open(\"/home/HPC/camontan/turchetti_paper/htcondor_elements/configs/\" + f + \"_\" + str(i) + \".json\", \"w\") as file:\n",
    "            json.dump(c, file)\n",
    "        all_configs.append(f\"{base_path}{f + '_' + str(i) + '.json'}\")\n",
    "\n",
    "with open(\"configs/config_list.txt\", \"w\") as file:\n",
    "    for c in all_configs:\n",
    "        file.write(c + \"\\n\")"
   ]
  },
  {
   "cell_type": "code",
   "execution_count": 6,
   "metadata": {},
   "outputs": [
    {
     "name": "stdout",
     "output_type": "stream",
     "text": [
      "{'coords': {'coord1': 'x', 'coord2': 'y', 'coord1_min': 0.0, 'coord1_max': 0.45, 'coord2_min': 0.0, 'coord2_max': 0.45, 'samples_per_side': 300}, 'henon': {'omega_base': [0.28, 0.31], 'epsilon': 32.0, 'mu': 0.0}, 'tracking': {'max_iterations': 100000000, 'max_iterations_long': 100000000, 'n_samples': 50, 'sampling_method': 'log', 'analysis_type': 'megno'}, 'output': {'path': '.', 'basename': 'scan_28_31'}, 'scan_name': 'epsilon_32d0_mu_0d0_analysis_type_megno'}\n",
      "[{'coords': {'coord1': 'x', 'coord2': 'y', 'coord1_min': 0.0, 'coord1_max': 0.45, 'coord2_min': 0.0, 'coord2_max': 0.45, 'samples_per_side': 300}, 'henon': {'omega_base': [0.28, 0.31], 'epsilon': 32.0, 'mu': 0.0}, 'tracking': {'max_iterations': 100000000, 'max_iterations_long': 100000000, 'n_samples': 50, 'sampling_method': 'log', 'analysis_type': 'megno'}, 'output': {'path': '.', 'basename': 'scan_28_31'}, 'scan_name': 'epsilon_32d0_mu_0d0_analysis_type_megno'}]\n"
     ]
    }
   ],
   "source": [
    "with open(\"/home/HPC/camontan/turchetti_paper/htcondor_elements/configs/config_28_31_all_neo.json_0.json\") as file:\n",
    "    config = json.load(file)\n",
    "\n",
    "print(config)\n",
    "\n",
    "print(unpack_scans(config))"
   ]
  },
  {
   "cell_type": "code",
   "execution_count": null,
   "metadata": {},
   "outputs": [],
   "source": []
  }
 ],
 "metadata": {
  "kernelspec": {
   "display_name": "base",
   "language": "python",
   "name": "python3"
  },
  "language_info": {
   "codemirror_mode": {
    "name": "ipython",
    "version": 3
   },
   "file_extension": ".py",
   "mimetype": "text/x-python",
   "name": "python",
   "nbconvert_exporter": "python",
   "pygments_lexer": "ipython3",
   "version": "3.9.13"
  },
  "orig_nbformat": 4,
  "vscode": {
   "interpreter": {
    "hash": "f3023bf899be63b57b0092dfcb418df687710750732f0ded6fe0bfa97468ce8c"
   }
  }
 },
 "nbformat": 4,
 "nbformat_minor": 2
}
